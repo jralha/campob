{
 "cells": [
  {
   "cell_type": "code",
   "execution_count": 1,
   "metadata": {
    "ExecuteTime": {
     "end_time": "2019-06-11T00:49:22.018202Z",
     "start_time": "2019-06-11T00:49:06.010687Z"
    }
   },
   "outputs": [],
   "source": [
    "import pandas as pd\n",
    "import matplotlib.pyplot as plt\n",
    "import seaborn as sns\n",
    "from tqdm.auto import tqdm"
   ]
  },
  {
   "cell_type": "code",
   "execution_count": 2,
   "metadata": {
    "ExecuteTime": {
     "end_time": "2019-06-11T00:49:22.978379Z",
     "start_time": "2019-06-11T00:49:22.026189Z"
    }
   },
   "outputs": [],
   "source": [
    "clusters = pd.read_csv('csomclusters.csv').iloc[:,1:]\n",
    "clusters.columns = ['gmm','gmm prob1','gmm prob0','gmm prob2','kmeans']"
   ]
  },
  {
   "cell_type": "code",
   "execution_count": 3,
   "metadata": {
    "ExecuteTime": {
     "end_time": "2019-06-11T00:49:24.034071Z",
     "start_time": "2019-06-11T00:49:23.023365Z"
    }
   },
   "outputs": [],
   "source": [
    "res=pd.read_csv('res.csv')"
   ]
  },
  {
   "cell_type": "code",
   "execution_count": 4,
   "metadata": {
    "ExecuteTime": {
     "end_time": "2019-06-11T00:49:24.313982Z",
     "start_time": "2019-06-11T00:49:24.071059Z"
    }
   },
   "outputs": [],
   "source": [
    "data = pd.concat([res,clusters],axis=1)\n",
    "data['gmm'] = data['gmm'].map({0:10,1:11,2:2})\n",
    "data['gmm'] = data['gmm'].map({10:1,11:0,2:2})\n",
    "\n",
    "k_features=data[['SW','phie','GR','RHOB','ILD','kmeans']]\n",
    "g_features=data[['SW','phie','GR','RHOB','ILD','gmm']]\n",
    "kmeans = data['kmeans']\n",
    "gmm = data['gmm']"
   ]
  },
  {
   "cell_type": "code",
   "execution_count": 5,
   "metadata": {
    "ExecuteTime": {
     "end_time": "2019-06-11T00:49:26.818750Z",
     "start_time": "2019-06-11T00:49:26.047988Z"
    },
    "code_folding": []
   },
   "outputs": [],
   "source": [
    "#cluster stats\n",
    "kmeans_c = data['kmeans'].sort_values().unique()\n",
    "k_stat=[0]*len(kmeans_c)\n",
    "for i,k in enumerate(kmeans_c):\n",
    "    slc=data.loc[data['kmeans'] == k][['SW', 'phie', 'GR', 'ILD', 'RHOB']]\n",
    "    k_stat[i]=slc.describe()\n",
    "k_stat=pd.concat(k_stat[:])\n",
    "\n",
    "gmm_c = data['gmm'].sort_values().unique()\n",
    "gmm_stat=[0]*len(gmm_c)\n",
    "for i,k in enumerate(gmm_c):\n",
    "    slc=data.loc[data['gmm'] == k][['SW', 'phie', 'GR', 'ILD', 'RHOB']]\n",
    "    gmm_stat[i]=slc.describe()\n",
    "gmm_stat=pd.concat(gmm_stat[:])\n",
    "gmm_stat.to_csv('gmm_stat.csv')\n",
    "k_stat.to_csv('kmeans_stat.csv')"
   ]
  },
  {
   "cell_type": "code",
   "execution_count": 6,
   "metadata": {
    "ExecuteTime": {
     "end_time": "2019-06-11T00:49:29.018354Z",
     "start_time": "2019-06-11T00:49:28.991362Z"
    }
   },
   "outputs": [
    {
     "data": {
      "text/html": [
       "<div>\n",
       "<style scoped>\n",
       "    .dataframe tbody tr th:only-of-type {\n",
       "        vertical-align: middle;\n",
       "    }\n",
       "\n",
       "    .dataframe tbody tr th {\n",
       "        vertical-align: top;\n",
       "    }\n",
       "\n",
       "    .dataframe thead th {\n",
       "        text-align: right;\n",
       "    }\n",
       "</style>\n",
       "<table border=\"1\" class=\"dataframe\">\n",
       "  <thead>\n",
       "    <tr style=\"text-align: right;\">\n",
       "      <th></th>\n",
       "      <th>SW</th>\n",
       "      <th>phie</th>\n",
       "      <th>GR</th>\n",
       "      <th>ILD</th>\n",
       "      <th>RHOB</th>\n",
       "    </tr>\n",
       "  </thead>\n",
       "  <tbody>\n",
       "    <tr>\n",
       "      <th>count</th>\n",
       "      <td>219425.000000</td>\n",
       "      <td>219425.000000</td>\n",
       "      <td>219425.000000</td>\n",
       "      <td>219425.000000</td>\n",
       "      <td>219425.000000</td>\n",
       "    </tr>\n",
       "    <tr>\n",
       "      <th>mean</th>\n",
       "      <td>0.709877</td>\n",
       "      <td>0.164498</td>\n",
       "      <td>51.964819</td>\n",
       "      <td>3.434264</td>\n",
       "      <td>2453.547924</td>\n",
       "    </tr>\n",
       "    <tr>\n",
       "      <th>std</th>\n",
       "      <td>0.137147</td>\n",
       "      <td>0.044120</td>\n",
       "      <td>26.644329</td>\n",
       "      <td>7.961060</td>\n",
       "      <td>77.379815</td>\n",
       "    </tr>\n",
       "    <tr>\n",
       "      <th>min</th>\n",
       "      <td>0.210610</td>\n",
       "      <td>0.011900</td>\n",
       "      <td>10.300000</td>\n",
       "      <td>0.528900</td>\n",
       "      <td>2145.598600</td>\n",
       "    </tr>\n",
       "    <tr>\n",
       "      <th>25%</th>\n",
       "      <td>0.614110</td>\n",
       "      <td>0.136000</td>\n",
       "      <td>30.670000</td>\n",
       "      <td>1.373800</td>\n",
       "      <td>2394.089400</td>\n",
       "    </tr>\n",
       "    <tr>\n",
       "      <th>50%</th>\n",
       "      <td>0.719570</td>\n",
       "      <td>0.172100</td>\n",
       "      <td>46.970000</td>\n",
       "      <td>1.801900</td>\n",
       "      <td>2443.806400</td>\n",
       "    </tr>\n",
       "    <tr>\n",
       "      <th>75%</th>\n",
       "      <td>0.805630</td>\n",
       "      <td>0.196300</td>\n",
       "      <td>64.580000</td>\n",
       "      <td>3.058800</td>\n",
       "      <td>2518.490700</td>\n",
       "    </tr>\n",
       "    <tr>\n",
       "      <th>max</th>\n",
       "      <td>1.000000</td>\n",
       "      <td>0.305600</td>\n",
       "      <td>150.480000</td>\n",
       "      <td>748.365700</td>\n",
       "      <td>2666.426000</td>\n",
       "    </tr>\n",
       "    <tr>\n",
       "      <th>count</th>\n",
       "      <td>123262.000000</td>\n",
       "      <td>123262.000000</td>\n",
       "      <td>123262.000000</td>\n",
       "      <td>123262.000000</td>\n",
       "      <td>123262.000000</td>\n",
       "    </tr>\n",
       "    <tr>\n",
       "      <th>mean</th>\n",
       "      <td>0.352410</td>\n",
       "      <td>0.238887</td>\n",
       "      <td>38.361758</td>\n",
       "      <td>451.010622</td>\n",
       "      <td>2322.954329</td>\n",
       "    </tr>\n",
       "    <tr>\n",
       "      <th>std</th>\n",
       "      <td>0.149477</td>\n",
       "      <td>0.031550</td>\n",
       "      <td>20.622441</td>\n",
       "      <td>3407.086593</td>\n",
       "      <td>46.686111</td>\n",
       "    </tr>\n",
       "    <tr>\n",
       "      <th>min</th>\n",
       "      <td>0.064609</td>\n",
       "      <td>0.126800</td>\n",
       "      <td>10.240000</td>\n",
       "      <td>0.600900</td>\n",
       "      <td>2072.697500</td>\n",
       "    </tr>\n",
       "    <tr>\n",
       "      <th>25%</th>\n",
       "      <td>0.237710</td>\n",
       "      <td>0.217200</td>\n",
       "      <td>22.920000</td>\n",
       "      <td>2.710100</td>\n",
       "      <td>2293.379450</td>\n",
       "    </tr>\n",
       "    <tr>\n",
       "      <th>50%</th>\n",
       "      <td>0.338690</td>\n",
       "      <td>0.233000</td>\n",
       "      <td>29.890000</td>\n",
       "      <td>9.041150</td>\n",
       "      <td>2324.034800</td>\n",
       "    </tr>\n",
       "    <tr>\n",
       "      <th>75%</th>\n",
       "      <td>0.449810</td>\n",
       "      <td>0.258700</td>\n",
       "      <td>49.657500</td>\n",
       "      <td>39.057750</td>\n",
       "      <td>2352.965125</td>\n",
       "    </tr>\n",
       "    <tr>\n",
       "      <th>max</th>\n",
       "      <td>0.965350</td>\n",
       "      <td>0.361200</td>\n",
       "      <td>138.430000</td>\n",
       "      <td>52313.414100</td>\n",
       "      <td>2572.129900</td>\n",
       "    </tr>\n",
       "    <tr>\n",
       "      <th>count</th>\n",
       "      <td>125532.000000</td>\n",
       "      <td>125532.000000</td>\n",
       "      <td>125532.000000</td>\n",
       "      <td>125532.000000</td>\n",
       "      <td>125532.000000</td>\n",
       "    </tr>\n",
       "    <tr>\n",
       "      <th>mean</th>\n",
       "      <td>0.580615</td>\n",
       "      <td>0.215170</td>\n",
       "      <td>30.931568</td>\n",
       "      <td>7.738270</td>\n",
       "      <td>2370.844070</td>\n",
       "    </tr>\n",
       "    <tr>\n",
       "      <th>std</th>\n",
       "      <td>0.128092</td>\n",
       "      <td>0.030102</td>\n",
       "      <td>11.863789</td>\n",
       "      <td>29.058635</td>\n",
       "      <td>45.934924</td>\n",
       "    </tr>\n",
       "    <tr>\n",
       "      <th>min</th>\n",
       "      <td>0.188510</td>\n",
       "      <td>0.098000</td>\n",
       "      <td>10.230000</td>\n",
       "      <td>0.528900</td>\n",
       "      <td>2160.730500</td>\n",
       "    </tr>\n",
       "    <tr>\n",
       "      <th>25%</th>\n",
       "      <td>0.490208</td>\n",
       "      <td>0.197100</td>\n",
       "      <td>21.960000</td>\n",
       "      <td>1.650200</td>\n",
       "      <td>2341.643600</td>\n",
       "    </tr>\n",
       "    <tr>\n",
       "      <th>50%</th>\n",
       "      <td>0.573125</td>\n",
       "      <td>0.211600</td>\n",
       "      <td>27.450000</td>\n",
       "      <td>2.671400</td>\n",
       "      <td>2369.549450</td>\n",
       "    </tr>\n",
       "    <tr>\n",
       "      <th>75%</th>\n",
       "      <td>0.676890</td>\n",
       "      <td>0.227400</td>\n",
       "      <td>38.980000</td>\n",
       "      <td>5.932425</td>\n",
       "      <td>2394.804075</td>\n",
       "    </tr>\n",
       "    <tr>\n",
       "      <th>max</th>\n",
       "      <td>0.990810</td>\n",
       "      <td>0.361200</td>\n",
       "      <td>81.760000</td>\n",
       "      <td>1652.893600</td>\n",
       "      <td>2598.798100</td>\n",
       "    </tr>\n",
       "  </tbody>\n",
       "</table>\n",
       "</div>"
      ],
      "text/plain": [
       "                  SW           phie             GR            ILD  \\\n",
       "count  219425.000000  219425.000000  219425.000000  219425.000000   \n",
       "mean        0.709877       0.164498      51.964819       3.434264   \n",
       "std         0.137147       0.044120      26.644329       7.961060   \n",
       "min         0.210610       0.011900      10.300000       0.528900   \n",
       "25%         0.614110       0.136000      30.670000       1.373800   \n",
       "50%         0.719570       0.172100      46.970000       1.801900   \n",
       "75%         0.805630       0.196300      64.580000       3.058800   \n",
       "max         1.000000       0.305600     150.480000     748.365700   \n",
       "count  123262.000000  123262.000000  123262.000000  123262.000000   \n",
       "mean        0.352410       0.238887      38.361758     451.010622   \n",
       "std         0.149477       0.031550      20.622441    3407.086593   \n",
       "min         0.064609       0.126800      10.240000       0.600900   \n",
       "25%         0.237710       0.217200      22.920000       2.710100   \n",
       "50%         0.338690       0.233000      29.890000       9.041150   \n",
       "75%         0.449810       0.258700      49.657500      39.057750   \n",
       "max         0.965350       0.361200     138.430000   52313.414100   \n",
       "count  125532.000000  125532.000000  125532.000000  125532.000000   \n",
       "mean        0.580615       0.215170      30.931568       7.738270   \n",
       "std         0.128092       0.030102      11.863789      29.058635   \n",
       "min         0.188510       0.098000      10.230000       0.528900   \n",
       "25%         0.490208       0.197100      21.960000       1.650200   \n",
       "50%         0.573125       0.211600      27.450000       2.671400   \n",
       "75%         0.676890       0.227400      38.980000       5.932425   \n",
       "max         0.990810       0.361200      81.760000    1652.893600   \n",
       "\n",
       "                RHOB  \n",
       "count  219425.000000  \n",
       "mean     2453.547924  \n",
       "std        77.379815  \n",
       "min      2145.598600  \n",
       "25%      2394.089400  \n",
       "50%      2443.806400  \n",
       "75%      2518.490700  \n",
       "max      2666.426000  \n",
       "count  123262.000000  \n",
       "mean     2322.954329  \n",
       "std        46.686111  \n",
       "min      2072.697500  \n",
       "25%      2293.379450  \n",
       "50%      2324.034800  \n",
       "75%      2352.965125  \n",
       "max      2572.129900  \n",
       "count  125532.000000  \n",
       "mean     2370.844070  \n",
       "std        45.934924  \n",
       "min      2160.730500  \n",
       "25%      2341.643600  \n",
       "50%      2369.549450  \n",
       "75%      2394.804075  \n",
       "max      2598.798100  "
      ]
     },
     "execution_count": 6,
     "metadata": {},
     "output_type": "execute_result"
    }
   ],
   "source": [
    "gmm_stat"
   ]
  },
  {
   "cell_type": "code",
   "execution_count": 7,
   "metadata": {
    "ExecuteTime": {
     "end_time": "2019-06-11T00:49:30.548229Z",
     "start_time": "2019-06-11T00:49:30.537216Z"
    }
   },
   "outputs": [
    {
     "data": {
      "text/html": [
       "<div>\n",
       "<style scoped>\n",
       "    .dataframe tbody tr th:only-of-type {\n",
       "        vertical-align: middle;\n",
       "    }\n",
       "\n",
       "    .dataframe tbody tr th {\n",
       "        vertical-align: top;\n",
       "    }\n",
       "\n",
       "    .dataframe thead th {\n",
       "        text-align: right;\n",
       "    }\n",
       "</style>\n",
       "<table border=\"1\" class=\"dataframe\">\n",
       "  <thead>\n",
       "    <tr style=\"text-align: right;\">\n",
       "      <th></th>\n",
       "      <th>SW</th>\n",
       "      <th>phie</th>\n",
       "      <th>GR</th>\n",
       "      <th>ILD</th>\n",
       "      <th>RHOB</th>\n",
       "    </tr>\n",
       "  </thead>\n",
       "  <tbody>\n",
       "    <tr>\n",
       "      <th>count</th>\n",
       "      <td>158179.000000</td>\n",
       "      <td>158179.000000</td>\n",
       "      <td>158179.000000</td>\n",
       "      <td>158179.000000</td>\n",
       "      <td>158179.000000</td>\n",
       "    </tr>\n",
       "    <tr>\n",
       "      <th>mean</th>\n",
       "      <td>0.716819</td>\n",
       "      <td>0.161882</td>\n",
       "      <td>41.294249</td>\n",
       "      <td>3.525562</td>\n",
       "      <td>2479.418123</td>\n",
       "    </tr>\n",
       "    <tr>\n",
       "      <th>std</th>\n",
       "      <td>0.137140</td>\n",
       "      <td>0.044463</td>\n",
       "      <td>14.893958</td>\n",
       "      <td>6.679960</td>\n",
       "      <td>67.778874</td>\n",
       "    </tr>\n",
       "    <tr>\n",
       "      <th>min</th>\n",
       "      <td>0.265390</td>\n",
       "      <td>0.011900</td>\n",
       "      <td>10.300000</td>\n",
       "      <td>0.528900</td>\n",
       "      <td>2221.371800</td>\n",
       "    </tr>\n",
       "    <tr>\n",
       "      <th>25%</th>\n",
       "      <td>0.620805</td>\n",
       "      <td>0.132600</td>\n",
       "      <td>27.960000</td>\n",
       "      <td>1.424300</td>\n",
       "      <td>2425.968900</td>\n",
       "    </tr>\n",
       "    <tr>\n",
       "      <th>50%</th>\n",
       "      <td>0.729300</td>\n",
       "      <td>0.168300</td>\n",
       "      <td>41.170000</td>\n",
       "      <td>1.948000</td>\n",
       "      <td>2478.286100</td>\n",
       "    </tr>\n",
       "    <tr>\n",
       "      <th>75%</th>\n",
       "      <td>0.812975</td>\n",
       "      <td>0.194000</td>\n",
       "      <td>51.710000</td>\n",
       "      <td>3.316200</td>\n",
       "      <td>2533.187500</td>\n",
       "    </tr>\n",
       "    <tr>\n",
       "      <th>max</th>\n",
       "      <td>1.000000</td>\n",
       "      <td>0.303900</td>\n",
       "      <td>111.180000</td>\n",
       "      <td>643.259500</td>\n",
       "      <td>2666.426000</td>\n",
       "    </tr>\n",
       "    <tr>\n",
       "      <th>count</th>\n",
       "      <td>191565.000000</td>\n",
       "      <td>191565.000000</td>\n",
       "      <td>191565.000000</td>\n",
       "      <td>191565.000000</td>\n",
       "      <td>191565.000000</td>\n",
       "    </tr>\n",
       "    <tr>\n",
       "      <th>mean</th>\n",
       "      <td>0.463549</td>\n",
       "      <td>0.214752</td>\n",
       "      <td>54.025963</td>\n",
       "      <td>291.382518</td>\n",
       "      <td>2347.234262</td>\n",
       "    </tr>\n",
       "    <tr>\n",
       "      <th>std</th>\n",
       "      <td>0.210453</td>\n",
       "      <td>0.046055</td>\n",
       "      <td>29.390062</td>\n",
       "      <td>2741.421151</td>\n",
       "      <td>58.847727</td>\n",
       "    </tr>\n",
       "    <tr>\n",
       "      <th>min</th>\n",
       "      <td>0.064609</td>\n",
       "      <td>0.011900</td>\n",
       "      <td>11.350000</td>\n",
       "      <td>0.529400</td>\n",
       "      <td>2072.697500</td>\n",
       "    </tr>\n",
       "    <tr>\n",
       "      <th>25%</th>\n",
       "      <td>0.295870</td>\n",
       "      <td>0.192400</td>\n",
       "      <td>27.590000</td>\n",
       "      <td>1.581100</td>\n",
       "      <td>2309.518800</td>\n",
       "    </tr>\n",
       "    <tr>\n",
       "      <th>50%</th>\n",
       "      <td>0.440970</td>\n",
       "      <td>0.215700</td>\n",
       "      <td>48.270000</td>\n",
       "      <td>3.742500</td>\n",
       "      <td>2345.656000</td>\n",
       "    </tr>\n",
       "    <tr>\n",
       "      <th>75%</th>\n",
       "      <td>0.626710</td>\n",
       "      <td>0.239800</td>\n",
       "      <td>70.750000</td>\n",
       "      <td>17.455400</td>\n",
       "      <td>2382.107400</td>\n",
       "    </tr>\n",
       "    <tr>\n",
       "      <th>max</th>\n",
       "      <td>1.000000</td>\n",
       "      <td>0.361200</td>\n",
       "      <td>150.480000</td>\n",
       "      <td>52313.414100</td>\n",
       "      <td>2657.074000</td>\n",
       "    </tr>\n",
       "    <tr>\n",
       "      <th>count</th>\n",
       "      <td>118475.000000</td>\n",
       "      <td>118475.000000</td>\n",
       "      <td>118475.000000</td>\n",
       "      <td>118475.000000</td>\n",
       "      <td>118475.000000</td>\n",
       "    </tr>\n",
       "    <tr>\n",
       "      <th>mean</th>\n",
       "      <td>0.590030</td>\n",
       "      <td>0.217819</td>\n",
       "      <td>26.439860</td>\n",
       "      <td>7.943221</td>\n",
       "      <td>2367.408626</td>\n",
       "    </tr>\n",
       "    <tr>\n",
       "      <th>std</th>\n",
       "      <td>0.129824</td>\n",
       "      <td>0.032773</td>\n",
       "      <td>8.028483</td>\n",
       "      <td>27.053849</td>\n",
       "      <td>47.561259</td>\n",
       "    </tr>\n",
       "    <tr>\n",
       "      <th>min</th>\n",
       "      <td>0.202330</td>\n",
       "      <td>0.074100</td>\n",
       "      <td>10.230000</td>\n",
       "      <td>0.528900</td>\n",
       "      <td>2160.730500</td>\n",
       "    </tr>\n",
       "    <tr>\n",
       "      <th>25%</th>\n",
       "      <td>0.496950</td>\n",
       "      <td>0.198600</td>\n",
       "      <td>20.430000</td>\n",
       "      <td>1.645250</td>\n",
       "      <td>2335.612550</td>\n",
       "    </tr>\n",
       "    <tr>\n",
       "      <th>50%</th>\n",
       "      <td>0.585680</td>\n",
       "      <td>0.215400</td>\n",
       "      <td>25.080000</td>\n",
       "      <td>2.723500</td>\n",
       "      <td>2366.298100</td>\n",
       "    </tr>\n",
       "    <tr>\n",
       "      <th>75%</th>\n",
       "      <td>0.689570</td>\n",
       "      <td>0.232800</td>\n",
       "      <td>30.440000</td>\n",
       "      <td>6.059500</td>\n",
       "      <td>2393.324450</td>\n",
       "    </tr>\n",
       "    <tr>\n",
       "      <th>max</th>\n",
       "      <td>0.990810</td>\n",
       "      <td>0.361200</td>\n",
       "      <td>61.780000</td>\n",
       "      <td>1621.755900</td>\n",
       "      <td>2598.798100</td>\n",
       "    </tr>\n",
       "  </tbody>\n",
       "</table>\n",
       "</div>"
      ],
      "text/plain": [
       "                  SW           phie             GR            ILD  \\\n",
       "count  158179.000000  158179.000000  158179.000000  158179.000000   \n",
       "mean        0.716819       0.161882      41.294249       3.525562   \n",
       "std         0.137140       0.044463      14.893958       6.679960   \n",
       "min         0.265390       0.011900      10.300000       0.528900   \n",
       "25%         0.620805       0.132600      27.960000       1.424300   \n",
       "50%         0.729300       0.168300      41.170000       1.948000   \n",
       "75%         0.812975       0.194000      51.710000       3.316200   \n",
       "max         1.000000       0.303900     111.180000     643.259500   \n",
       "count  191565.000000  191565.000000  191565.000000  191565.000000   \n",
       "mean        0.463549       0.214752      54.025963     291.382518   \n",
       "std         0.210453       0.046055      29.390062    2741.421151   \n",
       "min         0.064609       0.011900      11.350000       0.529400   \n",
       "25%         0.295870       0.192400      27.590000       1.581100   \n",
       "50%         0.440970       0.215700      48.270000       3.742500   \n",
       "75%         0.626710       0.239800      70.750000      17.455400   \n",
       "max         1.000000       0.361200     150.480000   52313.414100   \n",
       "count  118475.000000  118475.000000  118475.000000  118475.000000   \n",
       "mean        0.590030       0.217819      26.439860       7.943221   \n",
       "std         0.129824       0.032773       8.028483      27.053849   \n",
       "min         0.202330       0.074100      10.230000       0.528900   \n",
       "25%         0.496950       0.198600      20.430000       1.645250   \n",
       "50%         0.585680       0.215400      25.080000       2.723500   \n",
       "75%         0.689570       0.232800      30.440000       6.059500   \n",
       "max         0.990810       0.361200      61.780000    1621.755900   \n",
       "\n",
       "                RHOB  \n",
       "count  158179.000000  \n",
       "mean     2479.418123  \n",
       "std        67.778874  \n",
       "min      2221.371800  \n",
       "25%      2425.968900  \n",
       "50%      2478.286100  \n",
       "75%      2533.187500  \n",
       "max      2666.426000  \n",
       "count  191565.000000  \n",
       "mean     2347.234262  \n",
       "std        58.847727  \n",
       "min      2072.697500  \n",
       "25%      2309.518800  \n",
       "50%      2345.656000  \n",
       "75%      2382.107400  \n",
       "max      2657.074000  \n",
       "count  118475.000000  \n",
       "mean     2367.408626  \n",
       "std        47.561259  \n",
       "min      2160.730500  \n",
       "25%      2335.612550  \n",
       "50%      2366.298100  \n",
       "75%      2393.324450  \n",
       "max      2598.798100  "
      ]
     },
     "execution_count": 7,
     "metadata": {},
     "output_type": "execute_result"
    }
   ],
   "source": [
    "k_stat"
   ]
  },
  {
   "cell_type": "code",
   "execution_count": 8,
   "metadata": {
    "ExecuteTime": {
     "end_time": "2019-06-11T00:49:32.531477Z",
     "start_time": "2019-06-11T00:49:32.528478Z"
    }
   },
   "outputs": [],
   "source": [
    "n_to_plot=20000\n",
    "njump=int(len(res)/n_to_plot)"
   ]
  },
  {
   "cell_type": "markdown",
   "metadata": {},
   "source": [
    "SW and phie percentiles N/G"
   ]
  },
  {
   "cell_type": "code",
   "execution_count": 24,
   "metadata": {
    "ExecuteTime": {
     "end_time": "2019-06-10T00:43:39.443148Z",
     "start_time": "2019-06-10T00:43:38.979778Z"
    }
   },
   "outputs": [],
   "source": [
    "percs=[50,75,90]\n",
    "perc_ngs=[0]*len(percs)\n",
    "for i,per in enumerate(percs):\n",
    "    sws = data['SW']\n",
    "    phs = data['phie']\n",
    "    cut_sw = np.percentile(data['SW'],(100-per))\n",
    "    cut_ph = np.percentile(data['phie'],per)\n",
    "    bool_sw = sws < cut_sw\n",
    "    bool_ph = phs > cut_ph\n",
    "    ng_bool = ((bool_ph == True) & (bool_sw==True))*1\n",
    "    data['NG perc '+str(per)] = ng_bool\n",
    "    "
   ]
  },
  {
   "cell_type": "code",
   "execution_count": 25,
   "metadata": {
    "ExecuteTime": {
     "end_time": "2019-06-10T00:43:57.251133Z",
     "start_time": "2019-06-10T00:43:44.442769Z"
    }
   },
   "outputs": [],
   "source": [
    "data.to_csv('ng_classes.csv')"
   ]
  },
  {
   "cell_type": "code",
   "execution_count": 26,
   "metadata": {
    "ExecuteTime": {
     "end_time": "2019-06-10T00:43:57.912633Z",
     "start_time": "2019-06-10T00:43:57.711974Z"
    }
   },
   "outputs": [],
   "source": [
    "from mpl_toolkits.mplot3d import Axes3D"
   ]
  },
  {
   "cell_type": "code",
   "execution_count": 36,
   "metadata": {
    "ExecuteTime": {
     "end_time": "2019-06-11T01:15:50.425619Z",
     "start_time": "2019-06-11T01:15:50.108636Z"
    }
   },
   "outputs": [],
   "source": [
    "data['i']=abs(data['i']-(np.max(data['i'])))"
   ]
  },
  {
   "cell_type": "code",
   "execution_count": 253,
   "metadata": {
    "ExecuteTime": {
     "end_time": "2019-06-11T04:48:06.751651Z",
     "start_time": "2019-06-11T04:48:06.407745Z"
    },
    "scrolled": true
   },
   "outputs": [
    {
     "data": {
      "image/png": "[encoded data removed]",
      "text/plain": [
       "<Figure size 864x216 with 2 Axes>"
      ]
     },
     "metadata": {},
     "output_type": "display_data"
    }
   ],
   "source": [
    "cmap = plt.get_cmap('magma', 3)\n",
    "j_slice=int((np.max(data['j']))/2)\n",
    "j_slice_data=data.loc[data['j'] == j_slice]\n",
    "xplot = j_slice_data['i']\n",
    "yplot = j_slice_data['k']\n",
    "plt.figure(figsize=(12,3),facecolor='white')\n",
    "plt.scatter(xplot,yplot,c=1-j_slice_data['gmm prob0'],marker='s',cmap='viridis',s=5)\n",
    "plt.colorbar(label='Probabilidade Classe 1 OU 2')\n",
    "plt.ylabel('Profundidade')\n",
    "plt.xlabel('Distância')\n",
    "d = round(np.sqrt(((np.max(j_slice_data['X'])-np.min(j_slice_data['X']))**2) + ((np.max(j_slice_data['Y'])-np.min(j_slice_data['Y']))**2)),ndigits=0)\n",
    "plt.title('SW -> NE      Extensão: '+str(d)+'m')\n",
    "plt.xticks(ticks=[np.min(j_slice_data['i']), np.max(j_slice_data['i'])/2,np.max(j_slice_data['i'])],labels=[0,d/2,d])\n",
    "plt.yticks(ticks=[np.min(j_slice_data['k']), np.min(j_slice_data['k'])+((np.max(j_slice_data['k'])-np.min(j_slice_data['k']))/2) ,np.max(j_slice_data['k'])],labels=[np.min(j_slice_data['Z']), np.min(j_slice_data['Z'])+((np.max(j_slice_data['Z'])-np.min(j_slice_data['Z']))/2) ,np.max(j_slice_data['Z'])])\n",
    "plt.show()"
   ]
  },
  {
   "cell_type": "code",
   "execution_count": 255,
   "metadata": {
    "ExecuteTime": {
     "end_time": "2019-06-11T04:56:07.116404Z",
     "start_time": "2019-06-11T04:56:06.255586Z"
    },
    "scrolled": true
   },
   "outputs": [
    {
     "data": {
      "image/png": "[encoded data removed]",
      "text/plain": [
       "<Figure size 432x288 with 2 Axes>"
      ]
     },
     "metadata": {},
     "output_type": "display_data"
    }
   ],
   "source": [
    "k_slice=int(np.median(data['k'])/1)\n",
    "k_slice_data=data.loc[data['k'] == k_slice]\n",
    "xplot = k_slice_data['X']\n",
    "yplot = k_slice_data['Y']\n",
    "zplot = 1-k_slice_data['gmm prob0']\n",
    "plt.figure(facecolor='white')\n",
    "plt.scatter(xplot,yplot,c=zplot,marker='.',cmap='viridis',s=3)\n",
    "plt.colorbar(label='Probabilidade Classe 1 ou 2')\n",
    "plt.ylabel('Latitude')\n",
    "plt.xlabel('Longitude')\n",
    "plt.title('Profundidade = '+str(round(np.mean(k_slice_data['Z']),ndigits=0))+\"m\")\n",
    "line=k_slice_data.loc[k_slice_data['j'] == j_slice]\n",
    "plt.plot(line['X'],line['Y'],c='orange',label='Seção Transversal')\n",
    "plt.legend()\n",
    "plt.show()\n"
   ]
  },
  {
   "cell_type": "code",
   "execution_count": null,
   "metadata": {},
   "outputs": [],
   "source": []
  },
  {
   "cell_type": "code",
   "execution_count": null,
   "metadata": {
    "ExecuteTime": {
     "end_time": "2019-06-11T02:44:48.880547Z",
     "start_time": "2019-06-11T02:44:48.873550Z"
    }
   },
   "outputs": [],
   "source": []
  },
  {
   "cell_type": "code",
   "execution_count": null,
   "metadata": {
    "ExecuteTime": {
     "end_time": "2019-06-07T00:13:19.704766Z",
     "start_time": "2019-06-07T00:13:17.296529Z"
    }
   },
   "outputs": [],
   "source": []
  },
  {
   "cell_type": "code",
   "execution_count": null,
   "metadata": {},
   "outputs": [],
   "source": []
  }
 ],
 "metadata": {
  "kernelspec": {
   "display_name": "Python 3",
   "language": "python",
   "name": "python3"
  },
  "language_info": {
   "codemirror_mode": {
    "name": "ipython",
    "version": 3
   },
   "file_extension": ".py",
   "mimetype": "text/x-python",
   "name": "python",
   "nbconvert_exporter": "python",
   "pygments_lexer": "ipython3",
   "version": "3.7.3"
  },
  "latex_envs": {
   "LaTeX_envs_menu_present": true,
   "autoclose": false,
   "autocomplete": true,
   "bibliofile": "biblio.bib",
   "cite_by": "apalike",
   "current_citInitial": 1,
   "eqLabelWithNumbers": true,
   "eqNumInitial": 1,
   "hotkeys": {
    "equation": "Ctrl-E",
    "itemize": "Ctrl-I"
   },
   "labels_anchors": false,
   "latex_user_defs": false,
   "report_style_numbering": false,
   "user_envs_cfg": false
  },
  "varInspector": {
   "cols": {
    "lenName": 16,
    "lenType": 16,
    "lenVar": 40
   },
   "kernels_config": {
    "python": {
     "delete_cmd_postfix": "",
     "delete_cmd_prefix": "del ",
     "library": "var_list.py",
     "varRefreshCmd": "print(var_dic_list())"
    },
    "r": {
     "delete_cmd_postfix": ") ",
     "delete_cmd_prefix": "rm(",
     "library": "var_list.r",
     "varRefreshCmd": "cat(var_dic_list()) "
    }
   },
   "position": {
    "height": "546px",
    "left": "1535px",
    "right": "20px",
    "top": "195px",
    "width": "350px"
   },
   "types_to_exclude": [
    "module",
    "function",
    "builtin_function_or_method",
    "instance",
    "_Feature"
   ],
   "window_display": false
  }
 },
 "nbformat": 4,
 "nbformat_minor": 2
}
