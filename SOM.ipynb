{
 "cells": [
  {
   "cell_type": "code",
   "execution_count": 18,
   "metadata": {
    "ExecuteTime": {
     "end_time": "2019-05-31T18:45:43.248409Z",
     "start_time": "2019-05-31T18:45:43.241394Z"
    }
   },
   "outputs": [],
   "source": [
    "import pandas as pd\n",
    "from minisom import MiniSom \n",
    "from sklearn import preprocessing\n",
    "import matplotlib.pyplot as plt\n",
    "import numpy as np\n",
    "from sklearn.decomposition import PCA\n",
    "from random import sample "
   ]
  },
  {
   "cell_type": "code",
   "execution_count": 23,
   "metadata": {
    "ExecuteTime": {
     "end_time": "2019-05-31T18:46:02.782606Z",
     "start_time": "2019-05-31T18:46:02.775628Z"
    }
   },
   "outputs": [],
   "source": [
    "%matplotlib notebook"
   ]
  },
  {
   "cell_type": "code",
   "execution_count": 19,
   "metadata": {
    "ExecuteTime": {
     "end_time": "2019-05-31T18:45:49.529342Z",
     "start_time": "2019-05-31T18:45:48.573901Z"
    }
   },
   "outputs": [],
   "source": [
    "res = pd.read_csv('res.csv')"
   ]
  },
  {
   "cell_type": "code",
   "execution_count": 20,
   "metadata": {
    "ExecuteTime": {
     "end_time": "2019-05-31T18:45:50.380597Z",
     "start_time": "2019-05-31T18:45:50.240937Z"
    }
   },
   "outputs": [],
   "source": [
    "features = res[['SW','phie','GR','ILD','RHOB']]\n",
    "data=preprocessing.scale(features.values)\n",
    "feature_names = features.columns"
   ]
  },
  {
   "cell_type": "code",
   "execution_count": 21,
   "metadata": {
    "ExecuteTime": {
     "end_time": "2019-05-31T18:45:51.790910Z",
     "start_time": "2019-05-31T18:45:51.784926Z"
    }
   },
   "outputs": [],
   "source": [
    "n=int(np.sqrt(5*np.sqrt(len(features))))\n",
    "size = len(feature_names)"
   ]
  },
  {
   "cell_type": "code",
   "execution_count": 22,
   "metadata": {
    "ExecuteTime": {
     "end_time": "2019-05-31T18:45:58.815548Z",
     "start_time": "2019-05-31T18:45:56.530472Z"
    }
   },
   "outputs": [],
   "source": [
    "som = MiniSom(n, n, size, sigma=0.3, learning_rate=0.5) # initialization of nxn SOM\n",
    "som.pca_weights_init(data)\n",
    "som.train_random(data, 100)"
   ]
  },
  {
   "cell_type": "code",
   "execution_count": 24,
   "metadata": {
    "ExecuteTime": {
     "end_time": "2019-05-31T18:46:04.783948Z",
     "start_time": "2019-05-31T18:46:04.744477Z"
    }
   },
   "outputs": [],
   "source": [
    "feature_map = som.labels_map(data,feature_names)"
   ]
  },
  {
   "cell_type": "code",
   "execution_count": 28,
   "metadata": {
    "ExecuteTime": {
     "end_time": "2019-05-31T18:53:44.737016Z",
     "start_time": "2019-05-31T18:53:44.734057Z"
    }
   },
   "outputs": [],
   "source": [
    "w = som.get_weights()"
   ]
  },
  {
   "cell_type": "code",
   "execution_count": 40,
   "metadata": {
    "ExecuteTime": {
     "end_time": "2019-05-31T18:57:47.666500Z",
     "start_time": "2019-05-31T18:57:47.662511Z"
    }
   },
   "outputs": [
    {
     "name": "stdout",
     "output_type": "stream",
     "text": [
      "SW\n",
      "phie\n",
      "GR\n",
      "ILD\n",
      "RHOB\n"
     ]
    }
   ],
   "source": [
    "for i,feat in enumerate(features):\n",
    "    print(feat)"
   ]
  },
  {
   "cell_type": "code",
   "execution_count": null,
   "metadata": {},
   "outputs": [],
   "source": []
  }
 ],
 "metadata": {
  "kernelspec": {
   "display_name": "Python 3",
   "language": "python",
   "name": "python3"
  },
  "language_info": {
   "codemirror_mode": {
    "name": "ipython",
    "version": 3
   },
   "file_extension": ".py",
   "mimetype": "text/x-python",
   "name": "python",
   "nbconvert_exporter": "python",
   "pygments_lexer": "ipython3",
   "version": "3.6.8"
  },
  "varInspector": {
   "cols": {
    "lenName": 16,
    "lenType": 16,
    "lenVar": 40
   },
   "kernels_config": {
    "python": {
     "delete_cmd_postfix": "",
     "delete_cmd_prefix": "del ",
     "library": "var_list.py",
     "varRefreshCmd": "print(var_dic_list())"
    },
    "r": {
     "delete_cmd_postfix": ") ",
     "delete_cmd_prefix": "rm(",
     "library": "var_list.r",
     "varRefreshCmd": "cat(var_dic_list()) "
    }
   },
   "types_to_exclude": [
    "module",
    "function",
    "builtin_function_or_method",
    "instance",
    "_Feature"
   ],
   "window_display": false
  }
 },
 "nbformat": 4,
 "nbformat_minor": 2
}
