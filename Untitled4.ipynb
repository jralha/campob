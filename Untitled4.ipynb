{
 "cells": [
  {
   "cell_type": "code",
   "execution_count": 1,
   "metadata": {
    "ExecuteTime": {
     "end_time": "2019-05-16T14:11:05.154418Z",
     "start_time": "2019-05-16T14:11:01.657704Z"
    }
   },
   "outputs": [],
   "source": [
    "import pandas as pd\n",
    "from grdecl2numpy import get_prop_array\n",
    "import matplotlib.pyplot as plt\n",
    "from mpl_toolkits import mplot3d\n",
    "import seaborn as sns\n",
    "sns.set()\n",
    "from tqdm.auto import tqdm\n",
    "%matplotlib inline\n",
    "import statsmodels.api as sm"
   ]
  },
  {
   "cell_type": "code",
   "execution_count": 2,
   "metadata": {
    "ExecuteTime": {
     "end_time": "2019-05-16T14:02:20.790001Z",
     "start_time": "2019-05-16T14:02:19.994860Z"
    }
   },
   "outputs": [],
   "source": [
    "data = pd.read_csv('cluster.csv')"
   ]
  },
  {
   "cell_type": "code",
   "execution_count": 3,
   "metadata": {
    "ExecuteTime": {
     "end_time": "2019-05-16T14:02:42.054591Z",
     "start_time": "2019-05-16T14:02:22.042521Z"
    }
   },
   "outputs": [
    {
     "data": {
      "application/vnd.jupyter.widget-view+json": {
       "model_id": "e01823a871ef4d9dbfd7cc8d726a560b",
       "version_major": 2,
       "version_minor": 0
      },
      "text/plain": [
       "HBox(children=(IntProgress(value=0, max=64493), HTML(value='')))"
      ]
     },
     "metadata": {},
     "output_type": "display_data"
    },
    {
     "name": "stdout",
     "output_type": "stream",
     "text": [
      "\n"
     ]
    },
    {
     "data": {
      "application/vnd.jupyter.widget-view+json": {
       "model_id": "b0e5d01cb53c48c884c521f06026897b",
       "version_major": 2,
       "version_minor": 0
      },
      "text/plain": [
       "HBox(children=(IntProgress(value=0, max=5636), HTML(value='')))"
      ]
     },
     "metadata": {},
     "output_type": "display_data"
    },
    {
     "name": "stdout",
     "output_type": "stream",
     "text": [
      "\n"
     ]
    },
    {
     "data": {
      "application/vnd.jupyter.widget-view+json": {
       "model_id": "37bb98863d5848c3a663f24c50f4271b",
       "version_major": 2,
       "version_minor": 0
      },
      "text/plain": [
       "HBox(children=(IntProgress(value=0, max=101643), HTML(value='')))"
      ]
     },
     "metadata": {},
     "output_type": "display_data"
    },
    {
     "name": "stdout",
     "output_type": "stream",
     "text": [
      "\n"
     ]
    }
   ],
   "source": [
    "ant = get_prop_array('data/campob_PROP_SEISMIC_-_ANT_TRACKING.GRDECL')\n",
    "region = get_prop_array('data/campob_PROP_REGIONS_ALL_ZONES.GRDECL')\n",
    "OWC = get_prop_array('data/campob_PROP_OIL_WATER_CONTACT.GRDECL')"
   ]
  },
  {
   "cell_type": "code",
   "execution_count": 4,
   "metadata": {
    "ExecuteTime": {
     "end_time": "2019-05-16T14:02:55.356179Z",
     "start_time": "2019-05-16T14:02:50.718271Z"
    }
   },
   "outputs": [
    {
     "data": {
      "application/vnd.jupyter.widget-view+json": {
       "model_id": "8fd2ee50fd25462a82d23ac8e42996e8",
       "version_major": 2,
       "version_minor": 0
      },
      "text/plain": [
       "HBox(children=(IntProgress(value=0, max=11916135), HTML(value='')))"
      ]
     },
     "metadata": {},
     "output_type": "display_data"
    },
    {
     "name": "stdout",
     "output_type": "stream",
     "text": [
      "\n"
     ]
    }
   ],
   "source": [
    "res_ant=[]\n",
    "for i in tqdm(range(len(ant))):\n",
    "    if region[i] == 2:\n",
    "        if OWC[i] > 0:\n",
    "               res_ant.append(ant[i])"
   ]
  },
  {
   "cell_type": "code",
   "execution_count": 5,
   "metadata": {
    "ExecuteTime": {
     "end_time": "2019-05-16T14:03:04.370197Z",
     "start_time": "2019-05-16T14:03:04.317339Z"
    }
   },
   "outputs": [],
   "source": [
    "data['Ant Tracking']=pd.Series(res_ant)"
   ]
  },
  {
   "cell_type": "code",
   "execution_count": 6,
   "metadata": {
    "ExecuteTime": {
     "end_time": "2019-05-16T14:03:13.225587Z",
     "start_time": "2019-05-16T14:03:13.206637Z"
    }
   },
   "outputs": [
    {
     "data": {
      "text/html": [
       "<div>\n",
       "<style scoped>\n",
       "    .dataframe tbody tr th:only-of-type {\n",
       "        vertical-align: middle;\n",
       "    }\n",
       "\n",
       "    .dataframe tbody tr th {\n",
       "        vertical-align: top;\n",
       "    }\n",
       "\n",
       "    .dataframe thead th {\n",
       "        text-align: right;\n",
       "    }\n",
       "</style>\n",
       "<table border=\"1\" class=\"dataframe\">\n",
       "  <thead>\n",
       "    <tr style=\"text-align: right;\">\n",
       "      <th></th>\n",
       "      <th>Unnamed: 0</th>\n",
       "      <th>X</th>\n",
       "      <th>Y</th>\n",
       "      <th>Z</th>\n",
       "      <th>i</th>\n",
       "      <th>j</th>\n",
       "      <th>k</th>\n",
       "      <th>dx</th>\n",
       "      <th>dy</th>\n",
       "      <th>dz</th>\n",
       "      <th>region</th>\n",
       "      <th>SW</th>\n",
       "      <th>phie</th>\n",
       "      <th>OWC</th>\n",
       "      <th>Cluster</th>\n",
       "      <th>Ant Tracking</th>\n",
       "    </tr>\n",
       "  </thead>\n",
       "  <tbody>\n",
       "    <tr>\n",
       "      <th>0</th>\n",
       "      <td>0</td>\n",
       "      <td>327491.41</td>\n",
       "      <td>7489383.0</td>\n",
       "      <td>-2314.36</td>\n",
       "      <td>163.0</td>\n",
       "      <td>35.0</td>\n",
       "      <td>128.0</td>\n",
       "      <td>25.00</td>\n",
       "      <td>25.00</td>\n",
       "      <td>2.64</td>\n",
       "      <td>2.0</td>\n",
       "      <td>0.69349</td>\n",
       "      <td>0.2093</td>\n",
       "      <td>140.52</td>\n",
       "      <td>0</td>\n",
       "      <td>-0.87</td>\n",
       "    </tr>\n",
       "    <tr>\n",
       "      <th>1</th>\n",
       "      <td>1</td>\n",
       "      <td>327576.47</td>\n",
       "      <td>7489330.0</td>\n",
       "      <td>-2318.28</td>\n",
       "      <td>163.0</td>\n",
       "      <td>33.0</td>\n",
       "      <td>128.0</td>\n",
       "      <td>25.00</td>\n",
       "      <td>25.00</td>\n",
       "      <td>3.35</td>\n",
       "      <td>2.0</td>\n",
       "      <td>0.68556</td>\n",
       "      <td>0.2112</td>\n",
       "      <td>141.42</td>\n",
       "      <td>0</td>\n",
       "      <td>-1.00</td>\n",
       "    </tr>\n",
       "    <tr>\n",
       "      <th>2</th>\n",
       "      <td>2</td>\n",
       "      <td>327490.78</td>\n",
       "      <td>7489001.0</td>\n",
       "      <td>-2323.92</td>\n",
       "      <td>176.0</td>\n",
       "      <td>31.0</td>\n",
       "      <td>128.0</td>\n",
       "      <td>25.00</td>\n",
       "      <td>25.00</td>\n",
       "      <td>5.11</td>\n",
       "      <td>2.0</td>\n",
       "      <td>0.60615</td>\n",
       "      <td>0.1990</td>\n",
       "      <td>132.54</td>\n",
       "      <td>1</td>\n",
       "      <td>-0.90</td>\n",
       "    </tr>\n",
       "    <tr>\n",
       "      <th>3</th>\n",
       "      <td>3</td>\n",
       "      <td>327870.47</td>\n",
       "      <td>7490853.0</td>\n",
       "      <td>-2287.58</td>\n",
       "      <td>105.0</td>\n",
       "      <td>44.0</td>\n",
       "      <td>128.0</td>\n",
       "      <td>25.00</td>\n",
       "      <td>25.00</td>\n",
       "      <td>5.00</td>\n",
       "      <td>2.0</td>\n",
       "      <td>0.78303</td>\n",
       "      <td>0.1852</td>\n",
       "      <td>159.42</td>\n",
       "      <td>0</td>\n",
       "      <td>-0.97</td>\n",
       "    </tr>\n",
       "    <tr>\n",
       "      <th>4</th>\n",
       "      <td>4</td>\n",
       "      <td>326332.22</td>\n",
       "      <td>7487601.0</td>\n",
       "      <td>-2238.24</td>\n",
       "      <td>248.0</td>\n",
       "      <td>36.0</td>\n",
       "      <td>130.0</td>\n",
       "      <td>25.01</td>\n",
       "      <td>25.01</td>\n",
       "      <td>1.11</td>\n",
       "      <td>2.0</td>\n",
       "      <td>0.73602</td>\n",
       "      <td>0.1970</td>\n",
       "      <td>235.02</td>\n",
       "      <td>0</td>\n",
       "      <td>-0.93</td>\n",
       "    </tr>\n",
       "  </tbody>\n",
       "</table>\n",
       "</div>"
      ],
      "text/plain": [
       "   Unnamed: 0          X          Y        Z      i     j      k     dx  \\\n",
       "0           0  327491.41  7489383.0 -2314.36  163.0  35.0  128.0  25.00   \n",
       "1           1  327576.47  7489330.0 -2318.28  163.0  33.0  128.0  25.00   \n",
       "2           2  327490.78  7489001.0 -2323.92  176.0  31.0  128.0  25.00   \n",
       "3           3  327870.47  7490853.0 -2287.58  105.0  44.0  128.0  25.00   \n",
       "4           4  326332.22  7487601.0 -2238.24  248.0  36.0  130.0  25.01   \n",
       "\n",
       "      dy    dz  region       SW    phie     OWC  Cluster  Ant Tracking  \n",
       "0  25.00  2.64     2.0  0.69349  0.2093  140.52        0         -0.87  \n",
       "1  25.00  3.35     2.0  0.68556  0.2112  141.42        0         -1.00  \n",
       "2  25.00  5.11     2.0  0.60615  0.1990  132.54        1         -0.90  \n",
       "3  25.00  5.00     2.0  0.78303  0.1852  159.42        0         -0.97  \n",
       "4  25.01  1.11     2.0  0.73602  0.1970  235.02        0         -0.93  "
      ]
     },
     "execution_count": 6,
     "metadata": {},
     "output_type": "execute_result"
    }
   ],
   "source": [
    "data.head()"
   ]
  },
  {
   "cell_type": "code",
   "execution_count": 7,
   "metadata": {
    "ExecuteTime": {
     "end_time": "2019-05-16T14:33:32.307279Z",
     "start_time": "2019-05-16T14:33:32.303287Z"
    }
   },
   "outputs": [],
   "source": [
    "import numpy as np"
   ]
  },
  {
   "cell_type": "code",
   "execution_count": 161,
   "metadata": {
    "ExecuteTime": {
     "end_time": "2019-05-16T14:41:47.688926Z",
     "start_time": "2019-05-16T14:41:47.415760Z"
    }
   },
   "outputs": [],
   "source": [
    "_ys = data['Y'].tolist()\n",
    "ymax = np.max(_ys)\n",
    "ymin = np.min(_ys)\n",
    "y_med = ymin+((ymax-ymin)/2)\n",
    "north = data.loc[data['Y'] > y_med]\n",
    "south = data.loc[data['Y'] <= y_med]\n",
    "at_n = north.describe()['Ant Tracking'][1]\n",
    "at_s = south.describe()['Ant Tracking'][1]\n",
    "p_n = north.describe()['phie'][1]\n",
    "p_s = south.describe()['phie'][1]\n",
    "s_n = north.describe()['SW'][1]\n",
    "s_s = south.describe()['SW'][1]\n",
    "m_at = data.describe()['Ant Tracking'][1]\n",
    "m_p = data.describe()['phie'][1]\n",
    "m_s = data.describe()['SW'][1]\n",
    "\n",
    "quis = pd.read_csv('quis.csv')\n",
    "quis['Ant Tracking'] = pd.Series(ant)\n",
    "quis = quis.loc[quis['Ant Tracking'] > -1]\n",
    "nres = quis.loc[quis['OWC'] <= 0 ]\n",
    "q_s = quis.describe()['SW'][1]\n",
    "q_p = quis.describe()['phie'][1]\n",
    "q_at = quis.describe()['Ant Tracking'][1]\n",
    "\n",
    "nr_s = nres.describe()['SW'][1]\n",
    "nr_p = nres.describe()['phie'][1]\n",
    "nr_at = nres.describe()['Ant Tracking'][1]\n",
    "\n",
    "\n",
    "\n",
    "ns=[]\n",
    "for y in _ys:\n",
    "    if y > y_med:\n",
    "        ns.append(1)\n",
    "    else:\n",
    "        ns.append(0)\n",
    "data['N/S'] = pd.Series(ns)"
   ]
  },
  {
   "cell_type": "code",
   "execution_count": 162,
   "metadata": {
    "ExecuteTime": {
     "end_time": "2019-05-16T14:43:20.249756Z",
     "start_time": "2019-05-16T14:43:19.397037Z"
    }
   },
   "outputs": [],
   "source": [
    "ats=pd.Series([at_n,at_s,m_at,q_at,nr_at])\n",
    "phs=pd.Series([p_n,p_s,m_p,q_p,nr_p])\n",
    "sws=pd.Series([s_n,s_s,m_s,q_s,nr_s])\n",
    "df_ns = pd.DataFrame([ats,phs,sws])\n",
    "df_ns.index=[\"Ant Tracking\",\"PHIE\",\"Saturação de Água\"]\n",
    "df_ns.columns=[\"Norte\",\"Sul\",\"Reservatório\",\"Quissamã\",\"N Res\"]\n",
    "df_ns\n",
    "df_ns.to_excel('prop_stat.xlsx')"
   ]
  },
  {
   "cell_type": "code",
   "execution_count": 140,
   "metadata": {},
   "outputs": [
    {
     "data": {
      "text/plain": [
       "<matplotlib.legend.Legend at 0x238bce25c50>"
      ]
     },
     "execution_count": 140,
     "metadata": {},
     "output_type": "execute_result"
    },
    {
     "data": {
      "image/png": "[encoded data removed]",
      "text/plain": [
       "<Figure size 432x288 with 1 Axes>"
      ]
     },
     "metadata": {
      "needs_background": "light"
     },
     "output_type": "display_data"
    }
   ],
   "source": [
    "plt.scatter(north['X'],north['Y'],marker=\".\",label='Zona norte.')\n",
    "plt.scatter(south['X'],south['Y'],marker=\".\",label='Zona sul.')\n",
    "plt.xlabel('Longitude')\n",
    "plt.ylabel('Latitude')\n",
    "plt.legend()"
   ]
  },
  {
   "cell_type": "code",
   "execution_count": 72,
   "metadata": {},
   "outputs": [],
   "source": [
    "f_north = north.loc[north['Ant Tracking'] > np.percentile(data['Ant Tracking'],80)]\n",
    "f2_north = north.loc[north['Ant Tracking'] > np.percentile(data['Ant Tracking'],99)]\n",
    "f_south = south.loc[south['Ant Tracking'] > np.percentile(data['Ant Tracking'],80)]\n",
    "f2_south = south.loc[south['Ant Tracking'] > np.percentile(data['Ant Tracking'],99)]"
   ]
  },
  {
   "cell_type": "code",
   "execution_count": 234,
   "metadata": {},
   "outputs": [
    {
     "data": {
      "text/plain": [
       "<matplotlib.legend.Legend at 0x238ff2d9048>"
      ]
     },
     "execution_count": 234,
     "metadata": {},
     "output_type": "execute_result"
    },
    {
     "data": {
      "image/png": "[encoded data removed]",
      "text/plain": [
       "<Figure size 432x288 with 2 Axes>"
      ]
     },
     "metadata": {
      "needs_background": "light"
     },
     "output_type": "display_data"
    }
   ],
   "source": [
    "plt.subplot(1,2,1)\n",
    "plt.scatter(f_north['X'],f_north['Y'],marker=\".\",label=str(len(f_north))+\" pontos com Ant-Tracking > \"+str(np.percentile(data['Ant Tracking'],80)))\n",
    "plt.scatter(f_south['X'],f_south['Y'],marker=\".\",label=str(len(f_south))+\" pontos com Ant-Tracking > \"+str(np.percentile(data['Ant Tracking'],80)))\n",
    "plt.legend(loc='upper left', bbox_to_anchor=(-0.5, -0.15))\n",
    "plt.ylabel('Latitude')\n",
    "plt.xlabel('Longitude')\n",
    "plt.subplot(1,2,2)\n",
    "plt.scatter(f2_north['X'],f2_north['Y'],marker=\".\",label=str(len(f2_north))+\" pontos com Ant-Tracking > \"+str(np.percentile(data['Ant Tracking'],99)))\n",
    "plt.scatter(f2_south['X'],f2_south['Y'],marker=\".\",label=str(len(f2_south))+\" pontos com Ant-Tracking > \"+str(np.percentile(data['Ant Tracking'],99)))\n",
    "plt.yticks([])\n",
    "plt.xlabel('Longitude')\n",
    "plt.legend(loc='upper left', bbox_to_anchor=(-0.1, -0.15))"
   ]
  },
  {
   "cell_type": "code",
   "execution_count": 173,
   "metadata": {},
   "outputs": [],
   "source": [
    "fractures = data.loc[data['Ant Tracking'] > np.percentile(data['Ant Tracking'],99)]"
   ]
  },
  {
   "cell_type": "code",
   "execution_count": 229,
   "metadata": {},
   "outputs": [
    {
     "data": {
      "text/plain": [
       "([<matplotlib.axis.XTick at 0x238fe9b4860>,\n",
       "  <matplotlib.axis.XTick at 0x238fe9b4f60>,\n",
       "  <matplotlib.axis.XTick at 0x238fe9b4fd0>],\n",
       " <a list of 3 Text xticklabel objects>)"
      ]
     },
     "execution_count": 229,
     "metadata": {},
     "output_type": "execute_result"
    },
    {
     "data": {
      "image/png": "[encoded data removed]",
      "text/plain": [
       "<Figure size 432x288 with 1 Axes>"
      ]
     },
     "metadata": {
      "needs_background": "light"
     },
     "output_type": "display_data"
    }
   ],
   "source": [
    "plt.scatter(data['Y'],data['Ant Tracking'],marker=\".\",c='black')\n",
    "plt.xlabel('Latitude')\n",
    "plt.ylabel('Ant Tracking')\n",
    "plt.xticks([np.min(data['Y']),np.mean(data['Y']),np.max(data['Y'])])"
   ]
  },
  {
   "cell_type": "code",
   "execution_count": 231,
   "metadata": {},
   "outputs": [
    {
     "data": {
      "text/plain": [
       "234109.5"
      ]
     },
     "execution_count": 231,
     "metadata": {},
     "output_type": "execute_result"
    }
   ],
   "source": [
    "len(data)/2"
   ]
  },
  {
   "cell_type": "code",
   "execution_count": null,
   "metadata": {},
   "outputs": [],
   "source": []
  },
  {
   "cell_type": "code",
   "execution_count": null,
   "metadata": {},
   "outputs": [],
   "source": []
  }
 ],
 "metadata": {
  "kernelspec": {
   "display_name": "Python 3",
   "language": "python",
   "name": "python3"
  },
  "language_info": {
   "codemirror_mode": {
    "name": "ipython",
    "version": 3
   },
   "file_extension": ".py",
   "mimetype": "text/x-python",
   "name": "python",
   "nbconvert_exporter": "python",
   "pygments_lexer": "ipython3",
   "version": "3.6.7"
  },
  "varInspector": {
   "cols": {
    "lenName": 16,
    "lenType": 16,
    "lenVar": 40
   },
   "kernels_config": {
    "python": {
     "delete_cmd_postfix": "",
     "delete_cmd_prefix": "del ",
     "library": "var_list.py",
     "varRefreshCmd": "print(var_dic_list())"
    },
    "r": {
     "delete_cmd_postfix": ") ",
     "delete_cmd_prefix": "rm(",
     "library": "var_list.r",
     "varRefreshCmd": "cat(var_dic_list()) "
    }
   },
   "position": {
    "height": "429px",
    "left": "1461px",
    "right": "20px",
    "top": "158px",
    "width": "445px"
   },
   "types_to_exclude": [
    "module",
    "function",
    "builtin_function_or_method",
    "instance",
    "_Feature"
   ],
   "window_display": true
  }
 },
 "nbformat": 4,
 "nbformat_minor": 2
}
