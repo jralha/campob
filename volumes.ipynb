{
 "cells": [
  {
   "cell_type": "code",
   "execution_count": 3,
   "metadata": {
    "ExecuteTime": {
     "end_time": "2019-06-25T01:21:59.912684Z",
     "start_time": "2019-06-25T01:21:59.909684Z"
    }
   },
   "outputs": [],
   "source": [
    "import pandas as pd\n",
    "import numpy as np\n",
    "from grdecl2numpy import get_prop_array"
   ]
  },
  {
   "cell_type": "code",
   "execution_count": 2,
   "metadata": {
    "ExecuteTime": {
     "end_time": "2019-06-25T01:21:44.021481Z",
     "start_time": "2019-06-25T01:21:39.825874Z"
    }
   },
   "outputs": [],
   "source": [
    "data = pd.read_csv('ng_classes.csv')"
   ]
  },
  {
   "cell_type": "code",
   "execution_count": 9,
   "metadata": {
    "ExecuteTime": {
     "end_time": "2019-06-25T01:27:50.661970Z",
     "start_time": "2019-06-25T01:27:22.055435Z"
    }
   },
   "outputs": [
    {
     "data": {
      "application/vnd.jupyter.widget-view+json": {
       "model_id": "da8c781114f14ab5913b76a61b86f5fb",
       "version_major": 2,
       "version_minor": 0
      },
      "text/plain": [
       "HBox(children=(IntProgress(value=0, max=8191), HTML(value='')))"
      ]
     },
     "metadata": {},
     "output_type": "display_data"
    },
    {
     "name": "stdout",
     "output_type": "stream",
     "text": [
      "\n"
     ]
    },
    {
     "data": {
      "application/vnd.jupyter.widget-view+json": {
       "model_id": "bdfe6957af894c239a27fba3cd498c3d",
       "version_major": 2,
       "version_minor": 0
      },
      "text/plain": [
       "HBox(children=(IntProgress(value=0, max=101643), HTML(value='')))"
      ]
     },
     "metadata": {},
     "output_type": "display_data"
    },
    {
     "name": "stdout",
     "output_type": "stream",
     "text": [
      "\n"
     ]
    },
    {
     "data": {
      "application/vnd.jupyter.widget-view+json": {
       "model_id": "16012a7938f7426e941e7cced80b9a62",
       "version_major": 2,
       "version_minor": 0
      },
      "text/plain": [
       "HBox(children=(IntProgress(value=0, max=5636), HTML(value='')))"
      ]
     },
     "metadata": {},
     "output_type": "display_data"
    },
    {
     "name": "stdout",
     "output_type": "stream",
     "text": [
      "\n"
     ]
    }
   ],
   "source": [
    "melani = get_prop_array('props/campob_PROP_TOT_PAYFLAG.GRDECL')\n",
    "owc = get_prop_array('props/campob_PROP_OIL_WATER_CONTACT.GRDECL')\n",
    "region = get_prop_array('props/campob_PROP_REGIONS_ALL_ZONES.GRDECL')\n",
    "dic = {\"melani\":melani,\"owc\":owc,\"region\":region}\n",
    "temp = pd.DataFrame(dic)\n",
    "temp = temp.loc[temp['region'] == 2]\n",
    "temp = temp.loc[temp['owc'] > 0 ]"
   ]
  },
  {
   "cell_type": "code",
   "execution_count": 39,
   "metadata": {
    "ExecuteTime": {
     "end_time": "2019-06-25T01:57:50.310659Z",
     "start_time": "2019-06-25T01:57:50.299663Z"
    }
   },
   "outputs": [],
   "source": [
    "if len(data) == len(temp):\n",
    "    data['ng melani'] = temp['melani'].values"
   ]
  },
  {
   "cell_type": "code",
   "execution_count": 13,
   "metadata": {
    "ExecuteTime": {
     "end_time": "2019-06-25T01:31:32.159623Z",
     "start_time": "2019-06-25T01:31:32.155624Z"
    }
   },
   "outputs": [],
   "source": [
    "def vol_case(frame,phiE,sW,NG):\n",
    "    dX = frame['dx']\n",
    "    dY = frame['dy']\n",
    "    dZ = frame['dz']\n",
    "    vb = dX*dY*dZ\n",
    "    vp = vb*phiE\n",
    "    oip = vp*sW\n",
    "    hcpv = oip*NG \n",
    "    return np.sum(vb), np.sum(vp), np.sum(oip), np.sum(hcpv)"
   ]
  },
  {
   "cell_type": "code",
   "execution_count": 41,
   "metadata": {
    "ExecuteTime": {
     "end_time": "2019-06-25T01:58:40.543542Z",
     "start_time": "2019-06-25T01:58:40.095686Z"
    }
   },
   "outputs": [],
   "source": [
    "vols=[]\n",
    "#Case 0 - Melani et al 2015 NG\n",
    "vols.append(vol_case(data,data['phie'],data['SW'],data['ng melani']))\n",
    "#Case 1 - Total volume\n",
    "vols.append(vol_case(data,data['phie'],data['SW'],1))\n",
    "#Case 2 - Total Volume - Constant porosity\n",
    "vols.append(vol_case(data,np.mean(data['phie']),data['SW'],1))\n",
    "#Case 3 - Total volume - Constant SW\n",
    "vols.append(vol_case(data,data['phie'],np.mean(data['SW']),1))\n",
    "#Case 4-6 - 50-75-90 Percentile NGs\n",
    "vols.append(vol_case(data,data['phie'],data['SW'],data['NG perc 50']))\n",
    "vols.append(vol_case(data,data['phie'],data['SW'],data['NG perc 75']))\n",
    "vols.append(vol_case(data,data['phie'],data['SW'],data['NG perc 90']))\n",
    "#Case 7 - GMM Probability not class 0\n",
    "vols.append(vol_case(data,data['phie'],data['SW'],1-data['gmm prob0']))\n",
    "#Case 8-13 - Vol classes\n",
    "ks = range(3)\n",
    "algos = ['kmeans','gmm']\n",
    "for algo in algos:\n",
    "    for k in ks:\n",
    "        slc = data.loc[data[algo] == k]\n",
    "        vols.append(vol_case(slc,slc['phie'],slc['SW'],1))"
   ]
  },
  {
   "cell_type": "code",
   "execution_count": 42,
   "metadata": {
    "ExecuteTime": {
     "end_time": "2019-06-25T01:59:04.957709Z",
     "start_time": "2019-06-25T01:59:04.951712Z"
    }
   },
   "outputs": [],
   "source": [
    "vols = pd.DataFrame(vols)\n",
    "vols.columns=['Vb','Vp','OIP','HCPV']\n",
    "cases = ['Melani',\n",
    "        'Volume Total',\n",
    "        'Volume Total - Porosidade Constante (Valor médio)',\n",
    "        'Volume Total - Saturação de Água Constante (Valor médio)',\n",
    "        'NG 50%',\n",
    "        'NG 75%',\n",
    "        'NG 90%',\n",
    "        'NG = GMM P\\'(0)',\n",
    "        'Kmeans 0',\n",
    "        'Kmeans 1',\n",
    "        'Kmeans 2',\n",
    "        'GMM 0',\n",
    "        'GMM 1',\n",
    "        'GMM 2']\n",
    "vols['Case'] = pd.Series(cases)"
   ]
  },
  {
   "cell_type": "code",
   "execution_count": 44,
   "metadata": {
    "ExecuteTime": {
     "end_time": "2019-06-25T02:01:38.025900Z",
     "start_time": "2019-06-25T02:01:38.018903Z"
    }
   },
   "outputs": [],
   "source": [
    "vols.to_csv('volume_cases.csv')\n",
    "        "
   ]
  },
  {
   "cell_type": "code",
   "execution_count": 30,
   "metadata": {
    "ExecuteTime": {
     "end_time": "2019-06-25T01:47:07.170335Z",
     "start_time": "2019-06-25T01:47:07.154341Z"
    }
   },
   "outputs": [
    {
     "name": "stdout",
     "output_type": "stream",
     "text": [
      "0.28869 0.2542\n"
     ]
    }
   ],
   "source": [
    "a = np.percentile(data['SW'],10)\n",
    "b = np.percentile(data['phie'],90)\n",
    "print(a,b)"
   ]
  },
  {
   "cell_type": "code",
   "execution_count": null,
   "metadata": {
    "ExecuteTime": {
     "end_time": "2019-06-25T01:58:14.738822Z",
     "start_time": "2019-06-25T01:58:14.728825Z"
    }
   },
   "outputs": [],
   "source": []
  },
  {
   "cell_type": "code",
   "execution_count": null,
   "metadata": {},
   "outputs": [],
   "source": []
  }
 ],
 "metadata": {
  "kernelspec": {
   "display_name": "Python 3",
   "language": "python",
   "name": "python3"
  },
  "language_info": {
   "codemirror_mode": {
    "name": "ipython",
    "version": 3
   },
   "file_extension": ".py",
   "mimetype": "text/x-python",
   "name": "python",
   "nbconvert_exporter": "python",
   "pygments_lexer": "ipython3",
   "version": "3.7.3"
  },
  "varInspector": {
   "cols": {
    "lenName": 16,
    "lenType": 16,
    "lenVar": 40
   },
   "kernels_config": {
    "python": {
     "delete_cmd_postfix": "",
     "delete_cmd_prefix": "del ",
     "library": "var_list.py",
     "varRefreshCmd": "print(var_dic_list())"
    },
    "r": {
     "delete_cmd_postfix": ") ",
     "delete_cmd_prefix": "rm(",
     "library": "var_list.r",
     "varRefreshCmd": "cat(var_dic_list()) "
    }
   },
   "types_to_exclude": [
    "module",
    "function",
    "builtin_function_or_method",
    "instance",
    "_Feature"
   ],
   "window_display": false
  }
 },
 "nbformat": 4,
 "nbformat_minor": 2
}
