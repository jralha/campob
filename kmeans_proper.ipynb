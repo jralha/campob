{
 "cells": [
  {
   "cell_type": "code",
   "execution_count": 221,
   "metadata": {
    "ExecuteTime": {
     "end_time": "2019-06-01T05:41:54.561919Z",
     "start_time": "2019-06-01T05:41:54.556907Z"
    }
   },
   "outputs": [],
   "source": [
    "import pandas as pd\n",
    "import numpy as np\n",
    "import matplotlib.pyplot as plt\n",
    "from mpl_toolkits.mplot3d import Axes3D\n",
    "from tqdm.auto import tqdm\n",
    "import seaborn as sns\n",
    "sns.set()\n",
    "from sklearn.cluster import *\n",
    "from sklearn import preprocessing\n",
    "from minisom import MiniSom "
   ]
  },
  {
   "cell_type": "code",
   "execution_count": 2,
   "metadata": {
    "ExecuteTime": {
     "end_time": "2019-06-01T03:31:16.610425Z",
     "start_time": "2019-06-01T03:31:15.572583Z"
    }
   },
   "outputs": [],
   "source": [
    "som = pd.read_csv('som.csv')\n",
    "res = pd.read_csv('res.csv')"
   ]
  },
  {
   "cell_type": "code",
   "execution_count": 4,
   "metadata": {
    "ExecuteTime": {
     "end_time": "2019-06-01T03:35:21.629335Z",
     "start_time": "2019-06-01T03:35:21.478400Z"
    }
   },
   "outputs": [],
   "source": [
    "features = res[['SW','phie','GR','ILD','RHOB']]\n",
    "data=preprocessing.scale(features.values)\n",
    "feature_names = features.columns"
   ]
  },
  {
   "cell_type": "code",
   "execution_count": 265,
   "metadata": {
    "ExecuteTime": {
     "end_time": "2019-06-01T06:09:14.381902Z",
     "start_time": "2019-06-01T06:09:14.370905Z"
    },
    "code_folding": []
   },
   "outputs": [],
   "source": [
    "def som_to_clusterable(features):\n",
    "    \n",
    "    scaled_data=preprocessing.scale(features.values)\n",
    "    feature_names = features.columns\n",
    "    \n",
    "    n=int(np.sqrt(5*np.sqrt(len(features))))\n",
    "    size = len(feature_names)\n",
    "    \n",
    "    _som = MiniSom(n, n, size, sigma=0.3, learning_rate=0.5) # initialization of nxn SOM\n",
    "    _som.pca_weights_init(scaled_data)\n",
    "    _som.train_random(scaled_data, 100)\n",
    "    W = _som.get_weights()\n",
    "    \n",
    "    somdf=[]\n",
    "    for i,feat in enumerate(features):\n",
    "        tempdf=pd.DataFrame(W.T[i])\n",
    "        tempdf['feature'] = feat\n",
    "        somdf.append(tempdf)\n",
    "    som = pd.concat(somdf)\n",
    "    \n",
    "    w=[]\n",
    "    for i,feat in enumerate(features):\n",
    "        w.append(np.array(som.loc[som['feature'] == feat].iloc[:,1:-1]))\n",
    "    w = np.array(w)\n",
    "\n",
    "    dx = w.shape[1]\n",
    "    dy = w.shape[2]\n",
    "    w_table=[]\n",
    "    for i,feat in enumerate(features):\n",
    "        for x in range(dx):\n",
    "            for y in range(dy):\n",
    "                temp = w[i][x,y]\n",
    "                line = [x,y,temp,feat]\n",
    "                w_table.append(line)\n",
    "            \n",
    "    df = pd.DataFrame(w_table)\n",
    "    df.columns = ['x','y','value','feat']\n",
    "    wt=[]\n",
    "    for i,feat in enumerate(features):\n",
    "        temp = df.loc[df['feat'] == feat].iloc[:,-2:-1].values\n",
    "        wt.append(temp)\n",
    "    wt=np.array(wt)\n",
    "    wt = wt.reshape(wt.shape[0],wt.shape[1])\n",
    "    wt = pd.DataFrame(wt.T)\n",
    "    wt.columns = feature_names\n",
    "    xt = df['x'].iloc[:(wt.shape[0])]\n",
    "    yt = df['y'].iloc[:(wt.shape[0])]\n",
    "    wt['x'] = pd.Series(xt)\n",
    "    wt['y'] = pd.Series(yt)\n",
    "\n",
    "    clusterable=wt\n",
    "    return clusterable"
   ]
  },
  {
   "cell_type": "code",
   "execution_count": 274,
   "metadata": {
    "ExecuteTime": {
     "end_time": "2019-06-01T06:12:12.400009Z",
     "start_time": "2019-06-01T06:12:12.395010Z"
    }
   },
   "outputs": [],
   "source": [
    "def som_backwards_cluster_assign(features,clustered_som):\n",
    "        n=int(np.sqrt(5*np.sqrt(len(features))))\n",
    "        size = len(feature_names)\n",
    "        \n",
    "        a = np.zeros((n,n,size))\n",
    "        return size"
   ]
  },
  {
   "cell_type": "code",
   "execution_count": 266,
   "metadata": {
    "ExecuteTime": {
     "end_time": "2019-06-01T06:09:19.100081Z",
     "start_time": "2019-06-01T06:09:16.692855Z"
    }
   },
   "outputs": [],
   "source": [
    "maap = som_to_clusterable(features)\n",
    "\n",
    "kmeans = KMeans(5,init='k-means++')\n",
    "maap['cluster'] = kmeans.fit_predict(maap.iloc[:,:-3])"
   ]
  },
  {
   "cell_type": "code",
   "execution_count": 268,
   "metadata": {
    "ExecuteTime": {
     "end_time": "2019-06-01T06:11:07.070945Z",
     "start_time": "2019-06-01T06:11:07.067930Z"
    }
   },
   "outputs": [],
   "source": [
    "#plt.scatter(maap['x'],maap['y'],c=maap['cluster'],marker='.',s=30,cmap='viridis')"
   ]
  },
  {
   "cell_type": "code",
   "execution_count": 275,
   "metadata": {
    "ExecuteTime": {
     "end_time": "2019-06-01T06:12:13.478803Z",
     "start_time": "2019-06-01T06:12:13.474794Z"
    }
   },
   "outputs": [
    {
     "data": {
      "text/plain": [
       "5"
      ]
     },
     "execution_count": 275,
     "metadata": {},
     "output_type": "execute_result"
    }
   ],
   "source": [
    "som_backwards_cluster_assign(features,maap)"
   ]
  },
  {
   "cell_type": "code",
   "execution_count": null,
   "metadata": {
    "ExecuteTime": {
     "end_time": "2019-06-01T06:13:53.590829Z",
     "start_time": "2019-06-01T06:13:53.571818Z"
    }
   },
   "outputs": [],
   "source": []
  },
  {
   "cell_type": "code",
   "execution_count": null,
   "metadata": {
    "ExecuteTime": {
     "end_time": "2019-06-01T04:40:55.036589Z",
     "start_time": "2019-06-01T04:40:55.022600Z"
    }
   },
   "outputs": [],
   "source": []
  },
  {
   "cell_type": "code",
   "execution_count": null,
   "metadata": {},
   "outputs": [],
   "source": []
  }
 ],
 "metadata": {
  "kernelspec": {
   "display_name": "Python 3",
   "language": "python",
   "name": "python3"
  },
  "language_info": {
   "codemirror_mode": {
    "name": "ipython",
    "version": 3
   },
   "file_extension": ".py",
   "mimetype": "text/x-python",
   "name": "python",
   "nbconvert_exporter": "python",
   "pygments_lexer": "ipython3",
   "version": "3.6.7"
  },
  "varInspector": {
   "cols": {
    "lenName": 16,
    "lenType": 16,
    "lenVar": 40
   },
   "kernels_config": {
    "python": {
     "delete_cmd_postfix": "",
     "delete_cmd_prefix": "del ",
     "library": "var_list.py",
     "varRefreshCmd": "print(var_dic_list())"
    },
    "r": {
     "delete_cmd_postfix": ") ",
     "delete_cmd_prefix": "rm(",
     "library": "var_list.r",
     "varRefreshCmd": "cat(var_dic_list()) "
    }
   },
   "types_to_exclude": [
    "module",
    "function",
    "builtin_function_or_method",
    "instance",
    "_Feature"
   ],
   "window_display": false
  }
 },
 "nbformat": 4,
 "nbformat_minor": 2
}
