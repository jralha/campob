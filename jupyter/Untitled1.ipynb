{
 "cells": [
  {
   "cell_type": "code",
   "execution_count": 1,
   "metadata": {
    "ExecuteTime": {
     "end_time": "2019-06-06T23:27:44.826475Z",
     "start_time": "2019-06-06T23:27:17.879742Z"
    }
   },
   "outputs": [
    {
     "name": "stderr",
     "output_type": "stream",
     "text": [
      "D:\\Anaconda3\\lib\\site-packages\\gempy\\posterior_analysis.py:24: UserWarning: pymc (v2) package is not installed. No support for stochastic simulation posterior analysis.\n",
      "  warnings.warn(\"pymc (v2) package is not installed. No support for stochastic simulation posterior analysis.\")\n"
     ]
    }
   ],
   "source": [
    "import pandas as pd\n",
    "import matplotlib.pyplot as plt\n",
    "import numpy as np\n",
    "import gempy as gp"
   ]
  },
  {
   "cell_type": "code",
   "execution_count": 7,
   "metadata": {
    "ExecuteTime": {
     "end_time": "2019-06-06T23:28:45.380906Z",
     "start_time": "2019-06-06T23:28:44.966040Z"
    }
   },
   "outputs": [],
   "source": [
    "clusters = pd.read_csv('csomclusters.csv').iloc[:,1:]\n",
    "clusters.columns = ['gmm','gmm prob1','gmm prob0','gmm prob2','kmeans']"
   ]
  },
  {
   "cell_type": "code",
   "execution_count": 8,
   "metadata": {
    "ExecuteTime": {
     "end_time": "2019-06-06T23:28:46.844272Z",
     "start_time": "2019-06-06T23:28:45.901576Z"
    }
   },
   "outputs": [],
   "source": [
    "res=pd.read_csv('res.csv')"
   ]
  },
  {
   "cell_type": "code",
   "execution_count": 9,
   "metadata": {
    "ExecuteTime": {
     "end_time": "2019-06-06T23:28:47.582373Z",
     "start_time": "2019-06-06T23:28:47.304463Z"
    }
   },
   "outputs": [],
   "source": [
    "data = pd.concat([res,clusters],axis=1)\n",
    "data['gmm'] = data['gmm'].map({0:10,1:11,2:2})\n",
    "data['gmm'] = data['gmm'].map({10:1,11:0,2:2})"
   ]
  },
  {
   "cell_type": "code",
   "execution_count": 15,
   "metadata": {
    "ExecuteTime": {
     "end_time": "2019-06-06T23:34:06.658546Z",
     "start_time": "2019-06-06T23:34:06.621559Z"
    }
   },
   "outputs": [],
   "source": [
    "xmin=np.min(data['X'])\n",
    "xmax=np.max(data['X'])\n",
    "ymin=np.min(data['Y'])\n",
    "ymax=np.max(data['Y'])\n",
    "zmin=np.min(data['Z'])\n",
    "zmax=np.max(data['Z'])"
   ]
  },
  {
   "cell_type": "code",
   "execution_count": null,
   "metadata": {
    "ExecuteTime": {
     "end_time": "2019-06-06T23:35:46.145942Z",
     "start_time": "2019-06-06T23:35:46.045976Z"
    }
   },
   "outputs": [],
   "source": []
  },
  {
   "cell_type": "code",
   "execution_count": null,
   "metadata": {},
   "outputs": [],
   "source": []
  }
 ],
 "metadata": {
  "kernelspec": {
   "display_name": "Python 3",
   "language": "python",
   "name": "python3"
  },
  "language_info": {
   "codemirror_mode": {
    "name": "ipython",
    "version": 3
   },
   "file_extension": ".py",
   "mimetype": "text/x-python",
   "name": "python",
   "nbconvert_exporter": "python",
   "pygments_lexer": "ipython3",
   "version": "3.7.3"
  },
  "varInspector": {
   "cols": {
    "lenName": 16,
    "lenType": 16,
    "lenVar": 40
   },
   "kernels_config": {
    "python": {
     "delete_cmd_postfix": "",
     "delete_cmd_prefix": "del ",
     "library": "var_list.py",
     "varRefreshCmd": "print(var_dic_list())"
    },
    "r": {
     "delete_cmd_postfix": ") ",
     "delete_cmd_prefix": "rm(",
     "library": "var_list.r",
     "varRefreshCmd": "cat(var_dic_list()) "
    }
   },
   "position": {
    "height": "505px",
    "left": "577px",
    "right": "20px",
    "top": "120px",
    "width": "362px"
   },
   "types_to_exclude": [
    "module",
    "function",
    "builtin_function_or_method",
    "instance",
    "_Feature"
   ],
   "window_display": false
  }
 },
 "nbformat": 4,
 "nbformat_minor": 2
}
