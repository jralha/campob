{
 "cells": [
  {
   "cell_type": "code",
   "execution_count": 16,
   "metadata": {
    "ExecuteTime": {
     "end_time": "2019-06-03T16:47:56.739293Z",
     "start_time": "2019-06-03T16:47:54.931932Z"
    }
   },
   "outputs": [],
   "source": [
    "import pandas as pd\n",
    "import matplotlib.pyplot as plt"
   ]
  },
  {
   "cell_type": "code",
   "execution_count": 19,
   "metadata": {
    "ExecuteTime": {
     "end_time": "2019-06-03T16:49:45.326938Z",
     "start_time": "2019-06-03T16:49:44.815291Z"
    }
   },
   "outputs": [],
   "source": [
    "clusters = pd.read_csv('csomclusters.csv').iloc[:,1:]\n",
    "clusters.columns = ['kmeans','gmm','gmm prob0','gmm prob1','gmm prob2','gmm prob3']"
   ]
  },
  {
   "cell_type": "code",
   "execution_count": 20,
   "metadata": {
    "ExecuteTime": {
     "end_time": "2019-06-03T16:49:46.949576Z",
     "start_time": "2019-06-03T16:49:45.942275Z"
    }
   },
   "outputs": [],
   "source": [
    "res=pd.read_csv('res.csv')"
   ]
  },
  {
   "cell_type": "code",
   "execution_count": 21,
   "metadata": {
    "ExecuteTime": {
     "end_time": "2019-06-03T16:49:47.941921Z",
     "start_time": "2019-06-03T16:49:47.912005Z"
    }
   },
   "outputs": [],
   "source": [
    "data = pd.concat([res,clusters],axis=1)"
   ]
  },
  {
   "cell_type": "code",
   "execution_count": 36,
   "metadata": {
    "ExecuteTime": {
     "end_time": "2019-06-03T17:04:10.080132Z",
     "start_time": "2019-06-03T17:04:09.798884Z"
    }
   },
   "outputs": [],
   "source": [
    "kmeans_c = data['kmeans'].unique()\n",
    "km_stats=[0]*len(kmeans_c)\n",
    "feature_names=res.columns[-7:]\n",
    "for i,k in enumerate(kmeans_c):\n",
    "    slc=data.loc[data['kmeans'] == k]\n",
    "    stat=[0]*len(feature_names)\n",
    "    for j,feat in enumerate(feature_names):\n",
    "        temp = slc[feat].describe()\n",
    "        stat[j]=temp\n",
    "    km_stats[i]=stat\n",
    "    "
   ]
  },
  {
   "cell_type": "code",
   "execution_count": 42,
   "metadata": {
    "ExecuteTime": {
     "end_time": "2019-06-03T17:05:31.245560Z",
     "start_time": "2019-06-03T17:05:30.977316Z"
    }
   },
   "outputs": [],
   "source": [
    "gmm_c = data['gmm'].unique()\n",
    "gmm_stats=[0]*len(gmm_c)\n",
    "feature_names=res.columns[-7:]\n",
    "for i,k in enumerate(gmm_c):\n",
    "    slc=data.loc[data['gmm'] == k]\n",
    "    stat=[0]*len(feature_names)\n",
    "    for j,feat in enumerate(feature_names):\n",
    "        temp = slc[feat].describe()\n",
    "        stat[j]=temp\n",
    "    gmm_stats[i]=stat"
   ]
  },
  {
   "cell_type": "code",
   "execution_count": null,
   "metadata": {
    "ExecuteTime": {
     "end_time": "2019-06-03T17:14:52.222853Z",
     "start_time": "2019-06-03T17:14:52.207888Z"
    }
   },
   "outputs": [],
   "source": []
  },
  {
   "cell_type": "code",
   "execution_count": null,
   "metadata": {},
   "outputs": [],
   "source": []
  }
 ],
 "metadata": {
  "kernelspec": {
   "display_name": "Python 3",
   "language": "python",
   "name": "python3"
  },
  "language_info": {
   "codemirror_mode": {
    "name": "ipython",
    "version": 3
   },
   "file_extension": ".py",
   "mimetype": "text/x-python",
   "name": "python",
   "nbconvert_exporter": "python",
   "pygments_lexer": "ipython3",
   "version": "3.6.8"
  },
  "varInspector": {
   "cols": {
    "lenName": 16,
    "lenType": 16,
    "lenVar": 40
   },
   "kernels_config": {
    "python": {
     "delete_cmd_postfix": "",
     "delete_cmd_prefix": "del ",
     "library": "var_list.py",
     "varRefreshCmd": "print(var_dic_list())"
    },
    "r": {
     "delete_cmd_postfix": ") ",
     "delete_cmd_prefix": "rm(",
     "library": "var_list.r",
     "varRefreshCmd": "cat(var_dic_list()) "
    }
   },
   "position": {
    "height": "546px",
    "left": "1535px",
    "right": "20px",
    "top": "213px",
    "width": "350px"
   },
   "types_to_exclude": [
    "module",
    "function",
    "builtin_function_or_method",
    "instance",
    "_Feature"
   ],
   "window_display": true
  }
 },
 "nbformat": 4,
 "nbformat_minor": 2
}
