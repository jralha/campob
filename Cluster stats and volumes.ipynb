{
 "cells": [
  {
   "cell_type": "code",
   "execution_count": 1,
   "metadata": {
    "ExecuteTime": {
     "end_time": "2019-06-03T19:26:34.164296Z",
     "start_time": "2019-06-03T19:26:28.300284Z"
    }
   },
   "outputs": [],
   "source": [
    "import pandas as pd\n",
    "import matplotlib.pyplot as plt"
   ]
  },
  {
   "cell_type": "code",
   "execution_count": 35,
   "metadata": {
    "ExecuteTime": {
     "end_time": "2019-06-03T19:35:56.757614Z",
     "start_time": "2019-06-03T19:35:56.276900Z"
    }
   },
   "outputs": [],
   "source": [
    "clusters = pd.read_csv('csomclusters.csv').iloc[:,1:]\n",
    "clusters.columns = ['kmeans','gmm','gmm prob0','gmm prob1','gmm prob2','gmm prob3']"
   ]
  },
  {
   "cell_type": "code",
   "execution_count": 36,
   "metadata": {
    "ExecuteTime": {
     "end_time": "2019-06-03T19:35:58.371294Z",
     "start_time": "2019-06-03T19:35:57.448765Z"
    }
   },
   "outputs": [],
   "source": [
    "res=pd.read_csv('res.csv')"
   ]
  },
  {
   "cell_type": "code",
   "execution_count": 37,
   "metadata": {
    "ExecuteTime": {
     "end_time": "2019-06-03T19:35:59.284560Z",
     "start_time": "2019-06-03T19:35:59.245628Z"
    }
   },
   "outputs": [],
   "source": [
    "data = pd.concat([res,clusters],axis=1)"
   ]
  },
  {
   "cell_type": "code",
   "execution_count": 38,
   "metadata": {
    "ExecuteTime": {
     "end_time": "2019-06-03T19:36:02.501053Z",
     "start_time": "2019-06-03T19:36:02.324527Z"
    }
   },
   "outputs": [],
   "source": [
    "kmeans_c = data['kmeans'].unique()\n",
    "k_stat=[0]*len(kmeans_c)\n",
    "for i,k in enumerate(kmeans_c):\n",
    "    slc=data.loc[data['kmeans'] == k]\n",
    "    sw = np.mean(slc['SW'])\n",
    "    ph = np.mean(slc['phie'])\n",
    "    rhob = np.mean(slc['RHOB'])\n",
    "    gr = np.mean(slc['GR'])\n",
    "    ild = np.mean(slc['ILD'])\n",
    "    stat=[sw,ph,rhob,gr,ild]\n",
    "    k_stat[i]=stat\n",
    "k_stat=pd.DataFrame(k_stat)\n",
    "k_stat.columns=['SW','PHIE','RHOB','GR','ILD']"
   ]
  },
  {
   "cell_type": "code",
   "execution_count": 42,
   "metadata": {
    "ExecuteTime": {
     "end_time": "2019-06-03T19:36:12.671297Z",
     "start_time": "2019-06-03T19:36:12.571374Z"
    }
   },
   "outputs": [],
   "source": [
    "gmm_c = data['gmm'].unique()\n",
    "gmm_stat=[0]*len(gmm_c)\n",
    "for i,k in enumerate(gmm_c):\n",
    "    slc=data.loc[data['gmm'] == k]\n",
    "    sw = np.mean(slc['SW'])\n",
    "    ph = np.mean(slc['phie'])\n",
    "    rhob = np.mean(slc['RHOB'])\n",
    "    gr = np.mean(slc['GR'])\n",
    "    ild = np.mean(slc['ILD'])\n",
    "    stat=[sw,ph,rhob,gr,ild]\n",
    "    gmm_stat[i]=stat\n",
    "gmm_stat=pd.DataFrame(gmm_stat)\n",
    "gmm_stat.columns=['SW','PHIE','RHOB','GR','ILD']"
   ]
  },
  {
   "cell_type": "code",
   "execution_count": 43,
   "metadata": {
    "ExecuteTime": {
     "end_time": "2019-06-03T19:36:13.886560Z",
     "start_time": "2019-06-03T19:36:13.876588Z"
    }
   },
   "outputs": [
    {
     "data": {
      "text/html": [
       "<div>\n",
       "<style scoped>\n",
       "    .dataframe tbody tr th:only-of-type {\n",
       "        vertical-align: middle;\n",
       "    }\n",
       "\n",
       "    .dataframe tbody tr th {\n",
       "        vertical-align: top;\n",
       "    }\n",
       "\n",
       "    .dataframe thead th {\n",
       "        text-align: right;\n",
       "    }\n",
       "</style>\n",
       "<table border=\"1\" class=\"dataframe\">\n",
       "  <thead>\n",
       "    <tr style=\"text-align: right;\">\n",
       "      <th></th>\n",
       "      <th>SW</th>\n",
       "      <th>PHIE</th>\n",
       "      <th>RHOB</th>\n",
       "      <th>GR</th>\n",
       "      <th>ILD</th>\n",
       "    </tr>\n",
       "  </thead>\n",
       "  <tbody>\n",
       "    <tr>\n",
       "      <th>0</th>\n",
       "      <td>0.684203</td>\n",
       "      <td>0.174622</td>\n",
       "      <td>2450.732054</td>\n",
       "      <td>56.126701</td>\n",
       "      <td>3.959325</td>\n",
       "    </tr>\n",
       "    <tr>\n",
       "      <th>1</th>\n",
       "      <td>0.628966</td>\n",
       "      <td>0.200263</td>\n",
       "      <td>2368.522866</td>\n",
       "      <td>30.409451</td>\n",
       "      <td>6.543593</td>\n",
       "    </tr>\n",
       "    <tr>\n",
       "      <th>2</th>\n",
       "      <td>0.352083</td>\n",
       "      <td>0.235987</td>\n",
       "      <td>2340.780099</td>\n",
       "      <td>34.344056</td>\n",
       "      <td>31.046719</td>\n",
       "    </tr>\n",
       "    <tr>\n",
       "      <th>3</th>\n",
       "      <td>0.173192</td>\n",
       "      <td>0.254800</td>\n",
       "      <td>2282.417659</td>\n",
       "      <td>25.891522</td>\n",
       "      <td>2150.527879</td>\n",
       "    </tr>\n",
       "  </tbody>\n",
       "</table>\n",
       "</div>"
      ],
      "text/plain": [
       "         SW      PHIE         RHOB         GR          ILD\n",
       "0  0.684203  0.174622  2450.732054  56.126701     3.959325\n",
       "1  0.628966  0.200263  2368.522866  30.409451     6.543593\n",
       "2  0.352083  0.235987  2340.780099  34.344056    31.046719\n",
       "3  0.173192  0.254800  2282.417659  25.891522  2150.527879"
      ]
     },
     "execution_count": 43,
     "metadata": {},
     "output_type": "execute_result"
    }
   ],
   "source": [
    "gmm_stat"
   ]
  },
  {
   "cell_type": "code",
   "execution_count": 44,
   "metadata": {
    "ExecuteTime": {
     "end_time": "2019-06-03T19:36:15.230615Z",
     "start_time": "2019-06-03T19:36:15.220646Z"
    }
   },
   "outputs": [
    {
     "data": {
      "text/html": [
       "<div>\n",
       "<style scoped>\n",
       "    .dataframe tbody tr th:only-of-type {\n",
       "        vertical-align: middle;\n",
       "    }\n",
       "\n",
       "    .dataframe tbody tr th {\n",
       "        vertical-align: top;\n",
       "    }\n",
       "\n",
       "    .dataframe thead th {\n",
       "        text-align: right;\n",
       "    }\n",
       "</style>\n",
       "<table border=\"1\" class=\"dataframe\">\n",
       "  <thead>\n",
       "    <tr style=\"text-align: right;\">\n",
       "      <th></th>\n",
       "      <th>SW</th>\n",
       "      <th>PHIE</th>\n",
       "      <th>RHOB</th>\n",
       "      <th>GR</th>\n",
       "      <th>ILD</th>\n",
       "    </tr>\n",
       "  </thead>\n",
       "  <tbody>\n",
       "    <tr>\n",
       "      <th>0</th>\n",
       "      <td>0.710640</td>\n",
       "      <td>0.171246</td>\n",
       "      <td>2461.632031</td>\n",
       "      <td>44.061527</td>\n",
       "      <td>3.592649</td>\n",
       "    </tr>\n",
       "    <tr>\n",
       "      <th>1</th>\n",
       "      <td>0.417171</td>\n",
       "      <td>0.219716</td>\n",
       "      <td>2357.439500</td>\n",
       "      <td>48.073976</td>\n",
       "      <td>49.909707</td>\n",
       "    </tr>\n",
       "    <tr>\n",
       "      <th>2</th>\n",
       "      <td>0.638694</td>\n",
       "      <td>0.207497</td>\n",
       "      <td>2345.873738</td>\n",
       "      <td>30.799668</td>\n",
       "      <td>6.183669</td>\n",
       "    </tr>\n",
       "    <tr>\n",
       "      <th>3</th>\n",
       "      <td>0.181145</td>\n",
       "      <td>0.245379</td>\n",
       "      <td>2315.318455</td>\n",
       "      <td>26.315805</td>\n",
       "      <td>22250.937268</td>\n",
       "    </tr>\n",
       "  </tbody>\n",
       "</table>\n",
       "</div>"
      ],
      "text/plain": [
       "         SW      PHIE         RHOB         GR           ILD\n",
       "0  0.710640  0.171246  2461.632031  44.061527      3.592649\n",
       "1  0.417171  0.219716  2357.439500  48.073976     49.909707\n",
       "2  0.638694  0.207497  2345.873738  30.799668      6.183669\n",
       "3  0.181145  0.245379  2315.318455  26.315805  22250.937268"
      ]
     },
     "execution_count": 44,
     "metadata": {},
     "output_type": "execute_result"
    }
   ],
   "source": [
    "k_stat"
   ]
  }
 ],
 "metadata": {
  "kernelspec": {
   "display_name": "Python 3",
   "language": "python",
   "name": "python3"
  },
  "varInspector": {
   "cols": {
    "lenName": 16,
    "lenType": 16,
    "lenVar": 40
   },
   "kernels_config": {
    "python": {
     "delete_cmd_postfix": "",
     "delete_cmd_prefix": "del ",
     "library": "var_list.py",
     "varRefreshCmd": "print(var_dic_list())"
    },
    "r": {
     "delete_cmd_postfix": ") ",
     "delete_cmd_prefix": "rm(",
     "library": "var_list.r",
     "varRefreshCmd": "cat(var_dic_list()) "
    }
   },
   "position": {
    "height": "546px",
    "left": "1509px",
    "right": "20px",
    "top": "125px",
    "width": "350px"
   },
   "types_to_exclude": [
    "module",
    "function",
    "builtin_function_or_method",
    "instance",
    "_Feature"
   ],
   "window_display": true
  }
 },
 "nbformat": 4,
 "nbformat_minor": 2
}
