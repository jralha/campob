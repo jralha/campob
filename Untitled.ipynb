{
 "cells": [
  {
   "cell_type": "code",
   "execution_count": 40,
   "metadata": {},
   "outputs": [],
   "source": [
    "import pandas as pd\n",
    "import sys\n",
    "import time\n",
    "import numpy as np\n",
    "import dask.array as da"
   ]
  },
  {
   "cell_type": "code",
   "execution_count": 46,
   "metadata": {},
   "outputs": [],
   "source": [
    "def grid_files(gridfile):\n",
    "    '''Get property names and file paths from grid.'''\n",
    "    f = open(gridfile,'r')\n",
    "    text=[]\n",
    "    for line in f:\n",
    "        text.append(line.replace(\"[\",\"\").replace(\"]\",\"\").replace(\"\\n\",\"\"). replace(\" /\",\"\"))\n",
    "        \n",
    "    propfiles=[]\n",
    "    for line in text:\n",
    "        if \"_PROP_\" in line:\n",
    "            propfiles.append(line)\n",
    "        elif \"_COORD\" in line:\n",
    "            coord_file = line\n",
    "        elif \"_ACTNUM\" in line:\n",
    "            act_file = line\n",
    "        elif \"ZCORN\" in line:\n",
    "            zcorn_file = line\n",
    "        \n",
    "    pnames=[]\n",
    "    for i in propfiles:\n",
    "        pnames.append(i.split(\".\")[0].split(\"_\",maxsplit=2)[2:])\n",
    "        \n",
    "    pnames.append(\"COORD\")\n",
    "    pnames.append(\"ACTNUM\")\n",
    "    pnames.append(\"ZCORN\")\n",
    "    propfiles.append(coord_file)\n",
    "    propfiles.append(act_file)\n",
    "    propfiles.append(zcorn_file)\n",
    "        \n",
    "    prop_dict = {\"PROPERTY\":pnames,\"FILE\":propfiles}\n",
    "    files_df = pd.DataFrame(prop_dict)\n",
    "    \n",
    "\n",
    "    return files_df\n",
    "\n",
    "def grid_info(gridfile):\n",
    "    '''Gets grid geometry and coordinate system information from grid.'''\n",
    "    f = open(gridfile,'r')\n",
    "    text=[]\n",
    "    for line in f:\n",
    "        text.append(line.replace(\"[\",\"\").replace(\"]\",\"\").replace(\"\\n\",\"\"). replace(\" /\",\"\"))\n",
    "        \n",
    "    for line in text:\n",
    "        if \"SPECGRID\" in line:\n",
    "            i = text.index(line)\n",
    "            specgrid = text[i+1]\n",
    "        elif \"MAPUNITS\" in line:\n",
    "            i = text.index(line)\n",
    "            map_unit = text[i+1]\n",
    "        elif \"MAPAXES\" in line:\n",
    "            i = text.index(line)\n",
    "            map_axes = text[i+1]\n",
    "        elif \"GRIDUNIT\" in line:\n",
    "            i = text.index(line)\n",
    "            gridunit = text[i+1]\n",
    "        elif \"COORDSYS\" in line:\n",
    "            i = text.index(line)\n",
    "            crs = text[i+1]\n",
    "        \n",
    "    \n",
    "    \n",
    "    dims=specgrid.split()\n",
    "    xdim=int(dims[0])\n",
    "    ydim=int(dims[1])\n",
    "    zdim=int(dims[2])\n",
    "    \n",
    "    points=map_axes.split()\n",
    "    p0=[points[0],points[1]]\n",
    "    p1=[points[2],points[3]]\n",
    "    p2=[points[4],points[5]]\n",
    "    \n",
    "    info_dict = {\"XDIM\":xdim,\"YDIM\":ydim,\"ZDIM\":zdim,\"Surface Point 1\":p0,\"Surface Point 2\":p1,\"Surface Point 3\":p2,\"Unit\":gridunit}\n",
    "    grid_df = pd.DataFrame(info_dict)\n",
    "\n",
    "    return grid_df\n",
    "    \n",
    "def get_prop_array(propfile):\n",
    "    '''Gets property values for each cell.'''\n",
    "    f0 = open(propfile,'r').read().split(\"\\n\")[0:]\n",
    "    f = []\n",
    "    for i in f0:\n",
    "        if \"--\" not in i and i != \"\":\n",
    "            temp = i.split()\n",
    "            for j in temp:\n",
    "                if \"*\" in j:\n",
    "                    n = int(j.split(\"*\")[0])\n",
    "                    N=1\n",
    "                    while N <= n:\n",
    "                        f.append(j.split(\"*\")[1])\n",
    "                        N=N+1\n",
    "                else:    \n",
    "                    f.append(j)         \n",
    "    array = da.from_array(f,chunks=100000)\n",
    "    return array\n",
    "\n",
    "def grid_coords(gridfile):  \n",
    "    files = grid_files(gridfile)\n",
    "    coord_file = files.loc[files['PROPERTY'] == 'COORD']['FILE'].iloc[0].replace(\"\\'\",\"\")\n",
    "    coords = get_prop_array(coord_file)\n",
    "    xcoords = coords[0::3]\n",
    "    #xcoords = list(OrderedDict.fromkeys(xcoords))\n",
    "    ycoords = coords[1::3]\n",
    "    #ycoords = list(OrderedDict.fromkeys(ycoords))\n",
    "    dictio={\"X\":xcoords,\"Y\":ycoords}\n",
    "    return (dictio)"
   ]
  },
  {
   "cell_type": "code",
   "execution_count": 61,
   "metadata": {},
   "outputs": [],
   "source": [
    "grid = 'campob.GRDECL'\n",
    "coords = grid_coords(grid)"
   ]
  },
  {
   "cell_type": "code",
   "execution_count": 62,
   "metadata": {},
   "outputs": [
    {
     "data": {
      "text/plain": [
       "21945"
      ]
     },
     "execution_count": 62,
     "metadata": {},
     "output_type": "execute_result"
    }
   ],
   "source": [
    "info = grid_info(grid)\n",
    "xdim = info['XDIM'].iloc[0]\n",
    "ydim = info['YDIM'].iloc[0]\n",
    "zdim = info['ZDIM'].iloc[0]\n",
    "\n",
    "gridsize = xdim*ydim\n",
    "gridsize"
   ]
  },
  {
   "cell_type": "code",
   "execution_count": 65,
   "metadata": {},
   "outputs": [
    {
     "data": {
      "text/plain": [
       "{'X': dask.array<getitem, shape=(44617,), dtype=<U7, chunksize=(33334,)>,\n",
       " 'Y': dask.array<getitem, shape=(44616,), dtype=<U7, chunksize=(33333,)>}"
      ]
     },
     "execution_count": 65,
     "metadata": {},
     "output_type": "execute_result"
    }
   ],
   "source": [
    "coords"
   ]
  },
  {
   "cell_type": "code",
   "execution_count": null,
   "metadata": {},
   "outputs": [],
   "source": []
  }
 ],
 "metadata": {
  "kernelspec": {
   "display_name": "Python 3",
   "language": "python",
   "name": "python3"
  },
  "language_info": {
   "codemirror_mode": {
    "name": "ipython",
    "version": 3
   },
   "file_extension": ".py",
   "mimetype": "text/x-python",
   "name": "python",
   "nbconvert_exporter": "python",
   "pygments_lexer": "ipython3",
   "version": "3.7.3"
  }
 },
 "nbformat": 4,
 "nbformat_minor": 2
}
