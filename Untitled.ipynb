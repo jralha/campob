{
 "cells": [
  {
   "cell_type": "code",
   "execution_count": 426,
   "metadata": {},
   "outputs": [],
   "source": [
    "import pandas as pd\n",
    "from vtk import *\n",
    "import os\n",
    "from collections import OrderedDict"
   ]
  },
  {
   "cell_type": "markdown",
   "metadata": {},
   "source": [
    "Read .gredl initial file and define functions."
   ]
  },
  {
   "cell_type": "code",
   "execution_count": 429,
   "metadata": {},
   "outputs": [],
   "source": [
    "def grid_files(gridfile):\n",
    "    '''Get property names and file paths from grid.'''\n",
    "    f = open(gridfile,'r')\n",
    "    text=[]\n",
    "    for line in f:\n",
    "        text.append(line.replace(\"[\",\"\").replace(\"]\",\"\").replace(\"\\n\",\"\"). replace(\" /\",\"\"))\n",
    "        \n",
    "    propfiles=[]\n",
    "    for line in text:\n",
    "        if \"_PROP_\" in line:\n",
    "            propfiles.append(line)\n",
    "        elif \"_COORD\" in line:\n",
    "            coord_file = line\n",
    "        elif \"_ACTNUM\" in line:\n",
    "            act_file = line\n",
    "        elif \"ZCORN\" in line:\n",
    "            zcorn_file = line\n",
    "        \n",
    "    pnames=[]\n",
    "    for i in propfiles:\n",
    "        pnames.append(i.split(\".\")[0].split(\"_\",maxsplit=2)[2:])\n",
    "        \n",
    "    pnames.append(\"COORD\")\n",
    "    pnames.append(\"ACTNUM\")\n",
    "    pnames.append(\"ZCORN\")\n",
    "    propfiles.append(coord_file)\n",
    "    propfiles.append(act_file)\n",
    "    propfiles.append(zcorn_file)\n",
    "        \n",
    "    prop_dict = {\"PROPERTY\":pnames,\"FILE\":propfiles}\n",
    "    files_df = pd.DataFrame(prop_dict)\n",
    "    \n",
    "\n",
    "    return files_df\n",
    "\n",
    "def grid_info(gridfile):\n",
    "    '''Gets grid geometry and coordinate system information from grid.'''\n",
    "    f = open(gridfile,'r')\n",
    "    text=[]\n",
    "    for line in f:\n",
    "        text.append(line.replace(\"[\",\"\").replace(\"]\",\"\").replace(\"\\n\",\"\"). replace(\" /\",\"\"))\n",
    "        \n",
    "    for line in text:\n",
    "        if \"SPECGRID\" in line:\n",
    "            i = text.index(line)\n",
    "            specgrid = text[i+1]\n",
    "        elif \"MAPUNITS\" in line:\n",
    "            i = text.index(line)\n",
    "            map_unit = text[i+1]\n",
    "        elif \"MAPAXES\" in line:\n",
    "            i = text.index(line)\n",
    "            map_axes = text[i+1]\n",
    "        elif \"GRIDUNIT\" in line:\n",
    "            i = text.index(line)\n",
    "            gridunit = text[i+1]\n",
    "        elif \"COORDSYS\" in line:\n",
    "            i = text.index(line)\n",
    "            crs = text[i+1]\n",
    "        \n",
    "    \n",
    "    \n",
    "    dims=specgrid.split()\n",
    "    xdim=int(dims[0])\n",
    "    ydim=int(dims[1])\n",
    "    zdim=int(dims[2])\n",
    "    \n",
    "    points=map_axes.split()\n",
    "    p0=[points[0],points[1]]\n",
    "    p1=[points[2],points[3]]\n",
    "    p2=[points[4],points[5]]\n",
    "    \n",
    "    info_dict = {\"XDIM\":xdim,\"YDIM\":ydim,\"ZDIM\":zdim,\"Surface Point 1\":p0,\"Surface Point 2\":p1,\"Surface Point 3\":p2,\"Unit\":gridunit}\n",
    "    grid_df = pd.DataFrame(info_dict)\n",
    "\n",
    "    return grid_df\n",
    "\n",
    "def get_prop_array(propfile):\n",
    "    '''Gets property values for each cell.'''\n",
    "    f = open(propfile,'r')\n",
    "    text=[]\n",
    "    for line in f:\n",
    "        text.append(line.replace(\"[\",\"\").replace(\"]\",\"\").replace(\"\\n\",\"\"). replace(\" /\",\"\"))\n",
    "        \n",
    "    values0=[]\n",
    "    for line in text:\n",
    "        if \"--\" in line or line == \"\":\n",
    "            continue\n",
    "        else:\n",
    "            values0.append(line)\n",
    "            \n",
    "    array=[]\n",
    "    for i in values0:\n",
    "        splt = i.split()\n",
    "        for j in splt:\n",
    "            array.append(j)\n",
    "            \n",
    "    values=[]\n",
    "    for i in array:\n",
    "        if \"*\" in i:\n",
    "            n = float(i.split(\"*\")[0])\n",
    "            nn = 1\n",
    "            while nn < n:\n",
    "                values.append(i.split(\"*\")[1])\n",
    "                nn = nn+1\n",
    "        else:\n",
    "            values.append(i)\n",
    "\n",
    "    return values\n",
    "\n",
    "def grdecl_to_vtk(gridfile):\n",
    "    f = open(gridfile)\n",
    "    folder = os.path.realpath(f.name)[:-len(f.name)]\n",
    "    os.chdir(folder)\n",
    "    files = grid_files(gridfile)\n",
    "    info = grid_info(gridfile)\n",
    "    xdim = info['XDIM'].iloc[0]\n",
    "    ydim = info['YDIM'].iloc[0]\n",
    "    zdim = info['ZDIM'].iloc[0]\n",
    "    \n",
    "    coord_file = files.loc[files['PROPERTY'] == 'COORD']['FILE'].iloc[0].replace(\"\\'\",\"\")\n",
    "    coords = get_prop_array(coord_file)\n",
    "    xcoords = coords[0::3]\n",
    "    xcoords = list(OrderedDict.fromkeys(xcoords))\n",
    "    ycoords = coords[1::3]\n",
    "    ycoords = list(OrderedDict.fromkeys(ycoords))\n",
    "    \n",
    "    zcorn_file = files.loc[files['PROPERTY'] == 'ZCORN']['FILE'].iloc[0].replace(\"\\'\",\"\")\n",
    "    zcorn = get_prop_array(zcorn_file)\n",
    "    ######TO FINISH\n",
    "    "
   ]
  },
  {
   "cell_type": "markdown",
   "metadata": {},
   "source": [
    "Grid info"
   ]
  },
  {
   "cell_type": "code",
   "execution_count": 377,
   "metadata": {},
   "outputs": [],
   "source": [
    "grid = 'data/campob.GRDECL'\n",
    "files = grid_files(grid)\n",
    "info = grid_info(grid)\n"
   ]
  },
  {
   "cell_type": "code",
   "execution_count": 387,
   "metadata": {},
   "outputs": [],
   "source": [
    "sw = get_prop_array('data/campob_PROP_SWMMM195N240.GRDECL')\n",
    "phie = get_prop_array('data/campob_PROP_SWMMM195N240.GRDECL')\n",
    "region = get_prop_array('data/campob_PROP_REGIONS_ALL_ZONES.GRDECL')\n",
    "owc = get_prop_array('data/campob_PROP_OIL_WATER_CONTACT.GRDECL')"
   ]
  },
  {
   "cell_type": "markdown",
   "metadata": {},
   "source": [
    "Analysis"
   ]
  },
  {
   "cell_type": "code",
   "execution_count": 431,
   "metadata": {},
   "outputs": [],
   "source": [
    "import numpy as np\n",
    "import matplotlib.pyplot as plt\n",
    "import statsmodels.api as sm\n",
    "import seaborn as sns\n",
    "from sklearn.cluster import KMeans\n",
    "from sklearn import preprocessing\n",
    "sns.set()"
   ]
  },
  {
   "cell_type": "code",
   "execution_count": 433,
   "metadata": {},
   "outputs": [],
   "source": [
    "x = preprocessing.scale(sw)\n",
    "y = preprocessing.scale(phie)\n",
    "\n"
   ]
  },
  {
   "cell_type": "code",
   "execution_count": null,
   "metadata": {},
   "outputs": [],
   "source": []
  }
 ],
 "metadata": {
  "kernelspec": {
   "display_name": "Python 3",
   "language": "python",
   "name": "python3"
  },
  "language_info": {
   "codemirror_mode": {
    "name": "ipython",
    "version": 3
   },
   "file_extension": ".py",
   "mimetype": "text/x-python",
   "name": "python",
   "nbconvert_exporter": "python",
   "pygments_lexer": "ipython3",
   "version": "3.6.7"
  }
 },
 "nbformat": 4,
 "nbformat_minor": 2
}
