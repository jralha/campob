{
 "cells": [
  {
   "cell_type": "code",
   "execution_count": 1,
   "metadata": {},
   "outputs": [
    {
     "name": "stdin",
     "output_type": "stream",
     "text": [
      "Once deleted, variables cannot be recovered. Proceed (y/[n])?  y\n"
     ]
    }
   ],
   "source": [
    "%reset"
   ]
  },
  {
   "cell_type": "code",
   "execution_count": 2,
   "metadata": {},
   "outputs": [],
   "source": [
    "import pandas as pd\n",
    "import sys\n",
    "import time\n",
    "import numpy as np\n",
    "import matplotlib.pyplot as plt\n",
    "import seaborn as sns\n",
    "from tqdm import tqdm\n",
    "sns.set()"
   ]
  },
  {
   "cell_type": "markdown",
   "metadata": {},
   "source": [
    "A Function to get various info from the grid index file, returns grid dimensions, origin spatial reference, grid spatial unit and coordinate system."
   ]
  },
  {
   "cell_type": "code",
   "execution_count": 3,
   "metadata": {},
   "outputs": [],
   "source": [
    "def grid_info(gridfile):\n",
    "    '''Gets grid geometry and coordinate system information from grid.'''\n",
    "    f = open(gridfile,'r')\n",
    "    text=[]\n",
    "    for line in f:\n",
    "        text.append(line.replace(\"[\",\"\").replace(\"]\",\"\").replace(\"\\n\",\"\"). replace(\" /\",\"\"))\n",
    "        \n",
    "    for line in text:\n",
    "        if \"SPECGRID\" in line:\n",
    "            i = text.index(line)\n",
    "            specgrid = text[i+1]\n",
    "        elif \"MAPUNITS\" in line:\n",
    "            i = text.index(line)\n",
    "            map_unit = text[i+1]\n",
    "        elif \"MAPAXES\" in line:\n",
    "            i = text.index(line)\n",
    "            map_axes = text[i+1]\n",
    "        elif \"GRIDUNIT\" in line:\n",
    "            i = text.index(line)\n",
    "            gridunit = text[i+1]\n",
    "        elif \"COORDSYS\" in line:\n",
    "            i = text.index(line)\n",
    "            crs = text[i+1]\n",
    "        \n",
    "    \n",
    "    #Specgrid contains the dimensional information\n",
    "    dims=specgrid.split()\n",
    "    xdim=int(dims[0])\n",
    "    ydim=int(dims[1])\n",
    "    zdim=int(dims[2])\n",
    "    \n",
    "    #Map axes contains 3 points, p0 is the origin, p1 is at the first inline and last crossline and p2 at the first crossline and last inline.\n",
    "    #As such, the vector (p0,p1) represents the crossline direction.\n",
    "    #The (p0,p2) vector represents the inline direction.\n",
    "    points=map_axes.split()\n",
    "    p0=[points[0],points[1]]\n",
    "    p1=[points[2],points[3]]\n",
    "    p2=[points[4],points[5]]\n",
    "    \n",
    "    #Passes data into a Pandas dataframe for effortless viewing of the data.\n",
    "    info_dict = {\"XDIM\":xdim,\"YDIM\":ydim,\"ZDIM\":zdim,\"Surface Point 0\":p0,\"Surface Point 1\":p1,\"Surface Point 2\":p2,\"Unit\":gridunit}\n",
    "    grid_df = pd.DataFrame(info_dict)\n",
    "\n",
    "    return grid_df"
   ]
  },
  {
   "cell_type": "markdown",
   "metadata": {},
   "source": [
    "Function parsing property files into Numpy arrays.\n",
    "\n",
    "Please note the if function. As to reduce filesizes, Petrel groups adjacent cells with similar values together, so this needs to be considered when parsing.\n",
    "\n",
    "Example, given 5 consectuve cells with these PhiE values:\n",
    "\n",
    "Cell n ---- 0.32      \n",
    "Cell n+1 - 0.41      \n",
    "Cell n+2 - 0.41     \n",
    "Cell n+3 - 0.41      \n",
    "Cell n+4 - 0.29      \n",
    "\n",
    "Petrel will export those cells as  [ 0.32 , 3*0.41 , 0.29 ]"
   ]
  },
  {
   "cell_type": "code",
   "execution_count": 4,
   "metadata": {},
   "outputs": [],
   "source": [
    "def get_prop_array(propfile):\n",
    "    '''Gets property values for each cell.'''\n",
    "    f0 = open(propfile,'r').read().split(\"\\n\")[0:] #Opens property file and defines an array where each line is an array element.\n",
    "    f = [] #Empty array to be populated with values.\n",
    "    for i in tqdm(f0): #For each line\n",
    "        if \"--\" not in i and i != \"\" and i != \"/\": #Ignore header lines and end of line / symbols.\n",
    "            temp = i.split() #Temporary value splitting non-header lines into individual cell values.\n",
    "            for j in temp: # For each cell value.\n",
    "                if \"*\" in j and j != \"/\": #If Petrel grouped up adjacent cells. Also ignore / end of line symbols\n",
    "                    n = int(j.split(\"*\")[0]) #Get number of grouped up cells\n",
    "                    N=1 \n",
    "                    while N <= n: #Start while loop\n",
    "                        f.append(np.float(j.split(\"*\")[1])) #Pass the grouped cell value N times into the property array.\n",
    "                        N=N+1\n",
    "                elif j != \"/\":    #Ignore / end of line symbols, probably redundant\n",
    "                    f.append(np.float(j)) #Pass the cell value into property array for non-grouped up cells.\n",
    "                else:\n",
    "                    continue #If line is empty or only contains the / end of line symbol, skip line.\n",
    "    #array = da.from_array(f,chunks=100000)\n",
    "    return f"
   ]
  },
  {
   "cell_type": "markdown",
   "metadata": {},
   "source": [
    "Defining Grid Geometry\n",
    "\n",
    "X, Y and Z dims are the number of cells in each direction. Where X is the crossline direction and Y the inline direction.\n",
    "\n",
    "Multiplying each dimensions returns the total number of cells in the grid."
   ]
  },
  {
   "cell_type": "code",
   "execution_count": 6,
   "metadata": {},
   "outputs": [
    {
     "data": {
      "text/html": [
       "<div>\n",
       "<style scoped>\n",
       "    .dataframe tbody tr th:only-of-type {\n",
       "        vertical-align: middle;\n",
       "    }\n",
       "\n",
       "    .dataframe tbody tr th {\n",
       "        vertical-align: top;\n",
       "    }\n",
       "\n",
       "    .dataframe thead th {\n",
       "        text-align: right;\n",
       "    }\n",
       "</style>\n",
       "<table border=\"1\" class=\"dataframe\">\n",
       "  <thead>\n",
       "    <tr style=\"text-align: right;\">\n",
       "      <th></th>\n",
       "      <th>XDIM</th>\n",
       "      <th>YDIM</th>\n",
       "      <th>ZDIM</th>\n",
       "      <th>Surface Point 0</th>\n",
       "      <th>Surface Point 1</th>\n",
       "      <th>Surface Point 2</th>\n",
       "      <th>Unit</th>\n",
       "    </tr>\n",
       "  </thead>\n",
       "  <tbody>\n",
       "    <tr>\n",
       "      <th>0</th>\n",
       "      <td>285</td>\n",
       "      <td>77</td>\n",
       "      <td>543</td>\n",
       "      <td>324074.17</td>\n",
       "      <td>324074.17</td>\n",
       "      <td>325074.17</td>\n",
       "      <td>METRES</td>\n",
       "    </tr>\n",
       "    <tr>\n",
       "      <th>1</th>\n",
       "      <td>285</td>\n",
       "      <td>77</td>\n",
       "      <td>543</td>\n",
       "      <td>7492955.80</td>\n",
       "      <td>7493955.80</td>\n",
       "      <td>7493955.80</td>\n",
       "      <td>METRES</td>\n",
       "    </tr>\n",
       "  </tbody>\n",
       "</table>\n",
       "</div>"
      ],
      "text/plain": [
       "   XDIM  YDIM  ZDIM Surface Point 0 Surface Point 1 Surface Point 2      Unit\n",
       "0   285    77   543       324074.17       324074.17       325074.17    METRES\n",
       "1   285    77   543      7492955.80      7493955.80      7493955.80    METRES"
      ]
     },
     "execution_count": 6,
     "metadata": {},
     "output_type": "execute_result"
    }
   ],
   "source": [
    "grid='data/campob.GRDECL' #Gridfile\n",
    "info = grid_info(grid) #Run info function for gridfile\n",
    "info"
   ]
  },
  {
   "cell_type": "code",
   "execution_count": 7,
   "metadata": {},
   "outputs": [
    {
     "name": "stdout",
     "output_type": "stream",
     "text": [
      "Grid contains 21945 cells in 2D and 11916135 cells in 3D.\n",
      "Grid origin at the 324074.17, 7492955.8 UTM coordinates.\n"
     ]
    }
   ],
   "source": [
    "#Get dimensional values from info table.\n",
    "xdim = info['XDIM'].iloc[0]\n",
    "ydim = info['YDIM'].iloc[0]\n",
    "zdim = info['ZDIM'].iloc[0]\n",
    "p0 = [float(info['Surface Point 0'].iloc[0]),float(info['Surface Point 0'].iloc[1])]\n",
    "\n",
    "#Calculate gridsize.\n",
    "gridsize2d = xdim*ydim\n",
    "gridsize3d = (gridsize2d*zdim)\n",
    "\n",
    "print(\"Grid contains \"+str(gridsize2d)+\" cells in 2D and \"+str(gridsize3d)+\" cells in 3D.\")\n",
    "print(\"Grid origin at the \"+str(p0[0])+\", \"+str(p0[1])+\" UTM coordinates.\")"
   ]
  },
  {
   "cell_type": "markdown",
   "metadata": {},
   "source": [
    "Grid Coordinate reference.\n",
    "\n",
    "Back in Petrel grid properties related the cell coordinate were generated, they're used as their geospatial reference instead of relying on Petrel's complicated system to define grid geometry.\n",
    "\n",
    "Properties are also created for cell size in each direction and index position of the cell in each direction. Where i is the crossline direction, j is the inline direction and k is the depth direction."
   ]
  },
  {
   "cell_type": "code",
   "execution_count": 8,
   "metadata": {},
   "outputs": [
    {
     "name": "stderr",
     "output_type": "stream",
     "text": [
      "100%|███████████████████████████████████████████████████████████████████████| 374303/374303 [00:07<00:00, 53083.02it/s]\n",
      "100%|███████████████████████████████████████████████████████████████████████| 438913/438913 [00:07<00:00, 61307.42it/s]\n",
      "100%|███████████████████████████████████████████████████████████████████████| 345037/345037 [00:07<00:00, 49253.94it/s]\n"
     ]
    }
   ],
   "source": [
    "coordsx = get_prop_array('data/campob_PROP_XCOORD.GRDECL')\n",
    "coordsy = get_prop_array('data/campob_PROP_YCOORD.GRDECL')\n",
    "coordsz = get_prop_array('data/campob_PROP_ZCOORD.GRDECL')"
   ]
  },
  {
   "cell_type": "code",
   "execution_count": 9,
   "metadata": {},
   "outputs": [
    {
     "name": "stderr",
     "output_type": "stream",
     "text": [
      "100%|███████████████████████████████████████████████████████████████████████| 256439/256439 [00:06<00:00, 37039.86it/s]\n",
      "100%|██████████████████████████████████████████████████████████████████████████| 11501/11501 [00:07<00:00, 1475.63it/s]\n",
      "100%|█████████████████████████████████████████████████████████████████████████| 84427/84427 [00:08<00:00, 10463.30it/s]\n"
     ]
    }
   ],
   "source": [
    "celli = get_prop_array('data/campob_PROP_I_INDEX.GRDECL')\n",
    "cellJ = get_prop_array('data/campob_PROP_J_INDEX.GRDECL')\n",
    "cellK = get_prop_array('data/campob_PROP_K_INDEX.GRDECL')"
   ]
  },
  {
   "cell_type": "code",
   "execution_count": 10,
   "metadata": {},
   "outputs": [
    {
     "name": "stderr",
     "output_type": "stream",
     "text": [
      "100%|███████████████████████████████████████████████████████████████████████| 183412/183412 [00:07<00:00, 23841.00it/s]\n",
      "100%|███████████████████████████████████████████████████████████████████████| 183412/183412 [00:07<00:00, 24760.82it/s]\n",
      "100%|██████████████████████████████████████████████████████████████████████████| 21630/21630 [00:07<00:00, 2784.87it/s]\n"
     ]
    }
   ],
   "source": [
    "sizex = get_prop_array('data/campob_PROP_CELL_X_DIMENSION.GRDECL')\n",
    "sizey = get_prop_array('data/campob_PROP_CELL_Y_DIMENSION.GRDECL')\n",
    "sizez = get_prop_array('data/campob_PROP_CELL_HEIGHT.GRDECL')\n"
   ]
  },
  {
   "cell_type": "markdown",
   "metadata": {},
   "source": [
    "Grid Properties"
   ]
  },
  {
   "cell_type": "code",
   "execution_count": 11,
   "metadata": {},
   "outputs": [
    {
     "name": "stderr",
     "output_type": "stream",
     "text": [
      "100%|███████████████████████████████████████████████████████████████████████| 102600/102600 [00:07<00:00, 13285.00it/s]\n",
      "100%|███████████████████████████████████████████████████████████████████████| 244391/244391 [00:07<00:00, 33056.47it/s]\n"
     ]
    }
   ],
   "source": [
    "sw = get_prop_array('data/campob_PROP_SWMMM195N240.GRDECL')\n",
    "phie = get_prop_array('data/campob_PROP_PHIE.GRDECL')"
   ]
  },
  {
   "cell_type": "code",
   "execution_count": 12,
   "metadata": {},
   "outputs": [
    {
     "name": "stderr",
     "output_type": "stream",
     "text": [
      "100%|█████████████████████████████████████████████████████████████████████████████| 5636/5636 [00:07<00:00, 723.96it/s]\n"
     ]
    }
   ],
   "source": [
    "region = get_prop_array('data/campob_PROP_REGIONS_ALL_ZONES.GRDECL')"
   ]
  },
  {
   "cell_type": "code",
   "execution_count": 13,
   "metadata": {},
   "outputs": [
    {
     "name": "stderr",
     "output_type": "stream",
     "text": [
      "100%|███████████████████████████████████████████████████████████████████████| 101643/101643 [00:07<00:00, 13455.38it/s]\n"
     ]
    }
   ],
   "source": [
    "owc = get_prop_array('data/campob_PROP_OIL_WATER_CONTACT.GRDECL')"
   ]
  },
  {
   "cell_type": "markdown",
   "metadata": {},
   "source": [
    "Setting Up data for analysis.\n",
    "\n",
    "The region property is based on the physical model generated by the horizons, cells within the Quissamã formation are in region 3.\n",
    "\n",
    "Reservoir cells are cells within the Quissamã formation that are above the Oil Water Contact (OWC)"
   ]
  },
  {
   "cell_type": "code",
   "execution_count": 14,
   "metadata": {},
   "outputs": [],
   "source": [
    "dictio = {'X':coordsx, 'Y':coordsy, 'Z':coordsz, 'i':celli, 'j':cellJ, 'k':cellK, 'dx':sizex, 'dy':sizey, 'dz':sizez, 'region':region, 'SW':sw, 'phie':phie, 'OWC':owc}\n",
    "data = pd.DataFrame(dictio)"
   ]
  },
  {
   "cell_type": "code",
   "execution_count": 15,
   "metadata": {},
   "outputs": [],
   "source": [
    "data_clean = data.loc[data['SW'] > -1 ]"
   ]
  },
  {
   "cell_type": "code",
   "execution_count": 16,
   "metadata": {},
   "outputs": [],
   "source": [
    "quissama = data_clean.loc[data_clean['region'] == 2]\n",
    "reservoir = quissama.loc[quissama['OWC'] > 0 ]"
   ]
  },
  {
   "cell_type": "markdown",
   "metadata": {},
   "source": [
    "Export to CSV"
   ]
  },
  {
   "cell_type": "code",
   "execution_count": 17,
   "metadata": {},
   "outputs": [],
   "source": [
    "quissama.to_csv('quis.csv',index=0)"
   ]
  },
  {
   "cell_type": "code",
   "execution_count": 18,
   "metadata": {},
   "outputs": [],
   "source": [
    "reservoir.to_csv('res.csv',index=0)"
   ]
  },
  {
   "cell_type": "code",
   "execution_count": null,
   "metadata": {},
   "outputs": [],
   "source": []
  }
 ],
 "metadata": {
  "kernelspec": {
   "display_name": "Python 3",
   "language": "python",
   "name": "python3"
  },
  "language_info": {
   "codemirror_mode": {
    "name": "ipython",
    "version": 3
   },
   "file_extension": ".py",
   "mimetype": "text/x-python",
   "name": "python",
   "nbconvert_exporter": "python",
   "pygments_lexer": "ipython3",
   "version": "3.6.7"
  },
  "varInspector": {
   "cols": {
    "lenName": 16,
    "lenType": 16,
    "lenVar": 40
   },
   "kernels_config": {
    "python": {
     "delete_cmd_postfix": "",
     "delete_cmd_prefix": "del ",
     "library": "var_list.py",
     "varRefreshCmd": "print(var_dic_list())"
    },
    "r": {
     "delete_cmd_postfix": ") ",
     "delete_cmd_prefix": "rm(",
     "library": "var_list.r",
     "varRefreshCmd": "cat(var_dic_list()) "
    }
   },
   "types_to_exclude": [
    "module",
    "function",
    "builtin_function_or_method",
    "instance",
    "_Feature"
   ],
   "window_display": false
  }
 },
 "nbformat": 4,
 "nbformat_minor": 2
}
