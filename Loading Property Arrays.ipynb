{
 "cells": [
  {
   "cell_type": "code",
   "execution_count": null,
   "metadata": {},
   "outputs": [],
   "source": []
  },
  {
   "cell_type": "code",
   "execution_count": 1,
   "metadata": {
    "ExecuteTime": {
     "end_time": "2019-05-17T12:05:54.047070Z",
     "start_time": "2019-05-17T12:05:45.202794Z"
    }
   },
   "outputs": [],
   "source": [
    "import pandas as pd\n",
    "import sys\n",
    "import time\n",
    "import numpy as np\n",
    "import matplotlib.pyplot as plt\n",
    "import seaborn as sns\n",
    "from tqdm.auto import tqdm\n",
    "sns.set()"
   ]
  },
  {
   "cell_type": "markdown",
   "metadata": {},
   "source": [
    "A Function to get various info from the grid index file, returns grid dimensions, origin spatial reference, grid spatial unit and coordinate system."
   ]
  },
  {
   "cell_type": "code",
   "execution_count": 2,
   "metadata": {
    "ExecuteTime": {
     "end_time": "2019-05-17T12:05:54.660301Z",
     "start_time": "2019-05-17T12:05:54.650327Z"
    },
    "code_folding": [
     0
    ]
   },
   "outputs": [],
   "source": [
    "def grid_info(gridfile):\n",
    "    '''Gets grid geometry and coordinate system information from grid.'''\n",
    "    f = open(gridfile,'r')\n",
    "    text=[]\n",
    "    for line in f:\n",
    "        text.append(line.replace(\"[\",\"\").replace(\"]\",\"\").replace(\"\\n\",\"\"). replace(\" /\",\"\"))\n",
    "        \n",
    "    for line in text:\n",
    "        if \"SPECGRID\" in line:\n",
    "            i = text.index(line)\n",
    "            specgrid = text[i+1]\n",
    "        elif \"MAPUNITS\" in line:\n",
    "            i = text.index(line)\n",
    "            map_unit = text[i+1]\n",
    "        elif \"MAPAXES\" in line:\n",
    "            i = text.index(line)\n",
    "            map_axes = text[i+1]\n",
    "        elif \"GRIDUNIT\" in line:\n",
    "            i = text.index(line)\n",
    "            gridunit = text[i+1]\n",
    "        elif \"COORDSYS\" in line:\n",
    "            i = text.index(line)\n",
    "            crs = text[i+1]\n",
    "        \n",
    "    \n",
    "    #Specgrid contains the dimensional information\n",
    "    dims=specgrid.split()\n",
    "    xdim=int(dims[0])\n",
    "    ydim=int(dims[1])\n",
    "    zdim=int(dims[2])\n",
    "    \n",
    "    #Map axes contains 3 points, p0 is the origin, p1 is at the first inline and last crossline and p2 at the first crossline and last inline.\n",
    "    #As such, the vector (p0,p1) represents the crossline direction.\n",
    "    #The (p0,p2) vector represents the inline direction.\n",
    "    points=map_axes.split()\n",
    "    p0=[points[0],points[1]]\n",
    "    p1=[points[2],points[3]]\n",
    "    p2=[points[4],points[5]]\n",
    "    \n",
    "    #Passes data into a Pandas dataframe for effortless viewing of the data.\n",
    "    info_dict = {\"XDIM\":xdim,\"YDIM\":ydim,\"ZDIM\":zdim,\"Surface Point 0\":p0,\"Surface Point 1\":p1,\"Surface Point 2\":p2,\"Unit\":gridunit}\n",
    "    grid_df = pd.DataFrame(info_dict)\n",
    "\n",
    "    return grid_df"
   ]
  },
  {
   "cell_type": "markdown",
   "metadata": {},
   "source": [
    "Function parsing property files into Numpy arrays.\n",
    "\n",
    "Please note the if function. As to reduce filesizes, Petrel groups adjacent cells with similar values together, so this needs to be considered when parsing.\n",
    "\n",
    "Example, given 5 consectuve cells with these PhiE values:\n",
    "\n",
    "Cell n ---- 0.32      \n",
    "Cell n+1 - 0.41      \n",
    "Cell n+2 - 0.41     \n",
    "Cell n+3 - 0.41      \n",
    "Cell n+4 - 0.29      \n",
    "\n",
    "Petrel will export those cells as  [ 0.32 , 3*0.41 , 0.29 ]"
   ]
  },
  {
   "cell_type": "code",
   "execution_count": 3,
   "metadata": {
    "ExecuteTime": {
     "end_time": "2019-05-17T12:06:05.352336Z",
     "start_time": "2019-05-17T12:06:05.345354Z"
    },
    "code_folding": [
     0
    ]
   },
   "outputs": [],
   "source": [
    "def get_prop_array(propfile):\n",
    "    '''Gets property values for each cell.'''\n",
    "    f0 = open(propfile,'r').read().split(\"\\n\")[0:] #Opens property file and defines an array where each line is an array element.\n",
    "    f = [] #Empty array to be populated with values.\n",
    "    for i in tqdm(f0): #For each line\n",
    "        if \"--\" not in i and i != \"\" and i != \"/\": #Ignore header lines and end of line / symbols.\n",
    "            temp = i.split() #Temporary value splitting non-header lines into individual cell values.\n",
    "            for j in temp: # For each cell value.\n",
    "                if \"*\" in j and j != \"/\": #If Petrel grouped up adjacent cells. Also ignore / end of line symbols\n",
    "                    n = int(j.split(\"*\")[0]) #Get number of grouped up cells\n",
    "                    N=1 \n",
    "                    while N <= n: #Start while loop\n",
    "                        f.append(np.float(j.split(\"*\")[1])) #Pass the grouped cell value N times into the property array.\n",
    "                        N=N+1\n",
    "                elif j != \"/\":    #Ignore / end of line symbols, probably redundant\n",
    "                    f.append(np.float(j)) #Pass the cell value into property array for non-grouped up cells.\n",
    "                else:\n",
    "                    continue #If line is empty or only contains the / end of line symbol, skip line.\n",
    "    #array = da.from_array(f,chunks=100000)\n",
    "    return f"
   ]
  },
  {
   "cell_type": "markdown",
   "metadata": {},
   "source": [
    "Defining Grid Geometry\n",
    "\n",
    "X, Y and Z dims are the number of cells in each direction. Where X is the crossline direction and Y the inline direction.\n",
    "\n",
    "Multiplying each dimensions returns the total number of cells in the grid."
   ]
  },
  {
   "cell_type": "code",
   "execution_count": 4,
   "metadata": {
    "ExecuteTime": {
     "end_time": "2019-05-17T12:06:12.891512Z",
     "start_time": "2019-05-17T12:06:12.809293Z"
    }
   },
   "outputs": [
    {
     "data": {
      "text/html": [
       "<div>\n",
       "<style scoped>\n",
       "    .dataframe tbody tr th:only-of-type {\n",
       "        vertical-align: middle;\n",
       "    }\n",
       "\n",
       "    .dataframe tbody tr th {\n",
       "        vertical-align: top;\n",
       "    }\n",
       "\n",
       "    .dataframe thead th {\n",
       "        text-align: right;\n",
       "    }\n",
       "</style>\n",
       "<table border=\"1\" class=\"dataframe\">\n",
       "  <thead>\n",
       "    <tr style=\"text-align: right;\">\n",
       "      <th></th>\n",
       "      <th>XDIM</th>\n",
       "      <th>YDIM</th>\n",
       "      <th>ZDIM</th>\n",
       "      <th>Surface Point 0</th>\n",
       "      <th>Surface Point 1</th>\n",
       "      <th>Surface Point 2</th>\n",
       "      <th>Unit</th>\n",
       "    </tr>\n",
       "  </thead>\n",
       "  <tbody>\n",
       "    <tr>\n",
       "      <th>0</th>\n",
       "      <td>285</td>\n",
       "      <td>77</td>\n",
       "      <td>543</td>\n",
       "      <td>324074.17</td>\n",
       "      <td>324074.17</td>\n",
       "      <td>325074.17</td>\n",
       "      <td>METRES</td>\n",
       "    </tr>\n",
       "    <tr>\n",
       "      <th>1</th>\n",
       "      <td>285</td>\n",
       "      <td>77</td>\n",
       "      <td>543</td>\n",
       "      <td>7492955.80</td>\n",
       "      <td>7493955.80</td>\n",
       "      <td>7493955.80</td>\n",
       "      <td>METRES</td>\n",
       "    </tr>\n",
       "  </tbody>\n",
       "</table>\n",
       "</div>"
      ],
      "text/plain": [
       "   XDIM  YDIM  ZDIM Surface Point 0 Surface Point 1 Surface Point 2      Unit\n",
       "0   285    77   543       324074.17       324074.17       325074.17    METRES\n",
       "1   285    77   543      7492955.80      7493955.80      7493955.80    METRES"
      ]
     },
     "execution_count": 4,
     "metadata": {},
     "output_type": "execute_result"
    }
   ],
   "source": [
    "grid='data/campob.GRDECL' #Gridfile\n",
    "info = grid_info(grid) #Run info function for gridfile\n",
    "info"
   ]
  },
  {
   "cell_type": "code",
   "execution_count": 5,
   "metadata": {
    "ExecuteTime": {
     "end_time": "2019-05-17T12:06:28.002877Z",
     "start_time": "2019-05-17T12:06:27.993901Z"
    }
   },
   "outputs": [
    {
     "name": "stdout",
     "output_type": "stream",
     "text": [
      "Grid contains 21945 cells in 2D and 11916135 cells in 3D.\n",
      "Grid origin at the 324074.17, 7492955.8 UTM coordinates.\n"
     ]
    }
   ],
   "source": [
    "#Get dimensional values from info table.\n",
    "xdim = info['XDIM'].iloc[0]\n",
    "ydim = info['YDIM'].iloc[0]\n",
    "zdim = info['ZDIM'].iloc[0]\n",
    "p0 = [float(info['Surface Point 0'].iloc[0]),float(info['Surface Point 0'].iloc[1])]\n",
    "\n",
    "#Calculate gridsize.\n",
    "gridsize2d = xdim*ydim\n",
    "gridsize3d = (gridsize2d*zdim)\n",
    "\n",
    "print(\"Grid contains \"+str(gridsize2d)+\" cells in 2D and \"+str(gridsize3d)+\" cells in 3D.\")\n",
    "print(\"Grid origin at the \"+str(p0[0])+\", \"+str(p0[1])+\" UTM coordinates.\")"
   ]
  },
  {
   "cell_type": "markdown",
   "metadata": {},
   "source": [
    "Grid Coordinate reference.\n",
    "\n",
    "Back in Petrel grid properties related the cell coordinate were generated, they're used as their geospatial reference instead of relying on Petrel's complicated system to define grid geometry.\n",
    "\n",
    "Properties are also created for cell size in each direction and index position of the cell in each direction. Where i is the crossline direction, j is the inline direction and k is the depth direction."
   ]
  },
  {
   "cell_type": "code",
   "execution_count": 6,
   "metadata": {
    "ExecuteTime": {
     "end_time": "2019-05-17T12:07:10.869580Z",
     "start_time": "2019-05-17T12:06:49.339604Z"
    }
   },
   "outputs": [
    {
     "data": {
      "application/vnd.jupyter.widget-view+json": {
       "model_id": "d9c7e75e47734f34a823c7cc8d11ef86",
       "version_major": 2,
       "version_minor": 0
      },
      "text/plain": [
       "HBox(children=(IntProgress(value=0, max=374303), HTML(value='')))"
      ]
     },
     "metadata": {},
     "output_type": "display_data"
    },
    {
     "name": "stdout",
     "output_type": "stream",
     "text": [
      "\n"
     ]
    },
    {
     "data": {
      "application/vnd.jupyter.widget-view+json": {
       "model_id": "0d5c69dfb3474f2ebde3e386cf678a25",
       "version_major": 2,
       "version_minor": 0
      },
      "text/plain": [
       "HBox(children=(IntProgress(value=0, max=438913), HTML(value='')))"
      ]
     },
     "metadata": {},
     "output_type": "display_data"
    },
    {
     "name": "stdout",
     "output_type": "stream",
     "text": [
      "\n"
     ]
    },
    {
     "data": {
      "application/vnd.jupyter.widget-view+json": {
       "model_id": "91046ed6ce474c9f83660edac2a81a30",
       "version_major": 2,
       "version_minor": 0
      },
      "text/plain": [
       "HBox(children=(IntProgress(value=0, max=345037), HTML(value='')))"
      ]
     },
     "metadata": {},
     "output_type": "display_data"
    },
    {
     "name": "stdout",
     "output_type": "stream",
     "text": [
      "\n"
     ]
    }
   ],
   "source": [
    "coordsx = get_prop_array('props/campob_PROP_XCOORD.GRDECL')\n",
    "coordsy = get_prop_array('props/campob_PROP_YCOORD.GRDECL')\n",
    "coordsz = get_prop_array('props/campob_PROP_ZCOORD.GRDECL')"
   ]
  },
  {
   "cell_type": "code",
   "execution_count": 7,
   "metadata": {
    "ExecuteTime": {
     "end_time": "2019-05-17T12:07:42.204789Z",
     "start_time": "2019-05-17T12:07:20.402047Z"
    }
   },
   "outputs": [
    {
     "data": {
      "application/vnd.jupyter.widget-view+json": {
       "model_id": "acd1e20041df4e0fad878566737960df",
       "version_major": 2,
       "version_minor": 0
      },
      "text/plain": [
       "HBox(children=(IntProgress(value=0, max=256439), HTML(value='')))"
      ]
     },
     "metadata": {},
     "output_type": "display_data"
    },
    {
     "name": "stdout",
     "output_type": "stream",
     "text": [
      "\n"
     ]
    },
    {
     "data": {
      "application/vnd.jupyter.widget-view+json": {
       "model_id": "084c8a8f159146e6b15e4cd1178bb69c",
       "version_major": 2,
       "version_minor": 0
      },
      "text/plain": [
       "HBox(children=(IntProgress(value=0, max=11501), HTML(value='')))"
      ]
     },
     "metadata": {},
     "output_type": "display_data"
    },
    {
     "name": "stdout",
     "output_type": "stream",
     "text": [
      "\n"
     ]
    },
    {
     "data": {
      "application/vnd.jupyter.widget-view+json": {
       "model_id": "a4599c1d787c4cdab9b107170fc05f29",
       "version_major": 2,
       "version_minor": 0
      },
      "text/plain": [
       "HBox(children=(IntProgress(value=0, max=84427), HTML(value='')))"
      ]
     },
     "metadata": {},
     "output_type": "display_data"
    },
    {
     "name": "stdout",
     "output_type": "stream",
     "text": [
      "\n"
     ]
    }
   ],
   "source": [
    "celli = get_prop_array('props/campob_PROP_I_INDEX.GRDECL')\n",
    "cellJ = get_prop_array('props/campob_PROP_J_INDEX.GRDECL')\n",
    "cellK = get_prop_array('props/campob_PROP_K_INDEX.GRDECL')"
   ]
  },
  {
   "cell_type": "code",
   "execution_count": 8,
   "metadata": {
    "ExecuteTime": {
     "end_time": "2019-05-17T12:08:20.043317Z",
     "start_time": "2019-05-17T12:07:57.335314Z"
    }
   },
   "outputs": [
    {
     "data": {
      "application/vnd.jupyter.widget-view+json": {
       "model_id": "1ddd13cff62240759f2e653dc6b37afe",
       "version_major": 2,
       "version_minor": 0
      },
      "text/plain": [
       "HBox(children=(IntProgress(value=0, max=183412), HTML(value='')))"
      ]
     },
     "metadata": {},
     "output_type": "display_data"
    },
    {
     "name": "stdout",
     "output_type": "stream",
     "text": [
      "\n"
     ]
    },
    {
     "data": {
      "application/vnd.jupyter.widget-view+json": {
       "model_id": "6501567c419944ff9d0ae1149fed46c8",
       "version_major": 2,
       "version_minor": 0
      },
      "text/plain": [
       "HBox(children=(IntProgress(value=0, max=183412), HTML(value='')))"
      ]
     },
     "metadata": {},
     "output_type": "display_data"
    },
    {
     "name": "stdout",
     "output_type": "stream",
     "text": [
      "\n"
     ]
    },
    {
     "data": {
      "application/vnd.jupyter.widget-view+json": {
       "model_id": "6361a53a13634bdf87ab652b1613e434",
       "version_major": 2,
       "version_minor": 0
      },
      "text/plain": [
       "HBox(children=(IntProgress(value=0, max=21630), HTML(value='')))"
      ]
     },
     "metadata": {},
     "output_type": "display_data"
    },
    {
     "name": "stdout",
     "output_type": "stream",
     "text": [
      "\n"
     ]
    }
   ],
   "source": [
    "sizex = get_prop_array('props/campob_PROP_CELL_X_DIMENSION.GRDECL')\n",
    "sizey = get_prop_array('props/campob_PROP_CELL_Y_DIMENSION.GRDECL')\n",
    "sizez = get_prop_array('props/campob_PROP_CELL_HEIGHT.GRDECL')\n"
   ]
  },
  {
   "cell_type": "markdown",
   "metadata": {},
   "source": [
    "Grid Properties"
   ]
  },
  {
   "cell_type": "code",
   "execution_count": 9,
   "metadata": {
    "ExecuteTime": {
     "end_time": "2019-05-17T12:16:08.576734Z",
     "start_time": "2019-05-17T12:15:08.115957Z"
    }
   },
   "outputs": [
    {
     "data": {
      "application/vnd.jupyter.widget-view+json": {
       "model_id": "78fd0d9a9d6c4e0ebb145764f11bc5f5",
       "version_major": 2,
       "version_minor": 0
      },
      "text/plain": [
       "HBox(children=(IntProgress(value=0, max=133539), HTML(value='')))"
      ]
     },
     "metadata": {},
     "output_type": "display_data"
    },
    {
     "name": "stdout",
     "output_type": "stream",
     "text": [
      "\n"
     ]
    },
    {
     "data": {
      "application/vnd.jupyter.widget-view+json": {
       "model_id": "36361f2b24484146b7531cce8a220069",
       "version_major": 2,
       "version_minor": 0
      },
      "text/plain": [
       "HBox(children=(IntProgress(value=0, max=102600), HTML(value='')))"
      ]
     },
     "metadata": {},
     "output_type": "display_data"
    },
    {
     "name": "stdout",
     "output_type": "stream",
     "text": [
      "\n"
     ]
    },
    {
     "data": {
      "application/vnd.jupyter.widget-view+json": {
       "model_id": "8822a0f592c44895bf5c1b0d1e32fb0a",
       "version_major": 2,
       "version_minor": 0
      },
      "text/plain": [
       "HBox(children=(IntProgress(value=0, max=244391), HTML(value='')))"
      ]
     },
     "metadata": {},
     "output_type": "display_data"
    },
    {
     "name": "stdout",
     "output_type": "stream",
     "text": [
      "\n"
     ]
    },
    {
     "data": {
      "application/vnd.jupyter.widget-view+json": {
       "model_id": "5d3afced0ea64ddfa63bfbef3fe569a6",
       "version_major": 2,
       "version_minor": 0
      },
      "text/plain": [
       "HBox(children=(IntProgress(value=0, max=64493), HTML(value='')))"
      ]
     },
     "metadata": {},
     "output_type": "display_data"
    },
    {
     "name": "stdout",
     "output_type": "stream",
     "text": [
      "\n"
     ]
    },
    {
     "data": {
      "application/vnd.jupyter.widget-view+json": {
       "model_id": "ca52f26875c64721aa027eed733f87bb",
       "version_major": 2,
       "version_minor": 0
      },
      "text/plain": [
       "HBox(children=(IntProgress(value=0, max=83041), HTML(value='')))"
      ]
     },
     "metadata": {},
     "output_type": "display_data"
    },
    {
     "name": "stdout",
     "output_type": "stream",
     "text": [
      "\n"
     ]
    },
    {
     "data": {
      "application/vnd.jupyter.widget-view+json": {
       "model_id": "e823be40ddb24cbc9c72f7ba71009491",
       "version_major": 2,
       "version_minor": 0
      },
      "text/plain": [
       "HBox(children=(IntProgress(value=0, max=98870), HTML(value='')))"
      ]
     },
     "metadata": {},
     "output_type": "display_data"
    },
    {
     "name": "stdout",
     "output_type": "stream",
     "text": [
      "\n"
     ]
    }
   ],
   "source": [
    "rhob = get_prop_array('props/campob_PROP_RHOB.GRDECL')\n",
    "sw = get_prop_array('props/campob_PROP_SWMMM195N240.GRDECL')\n",
    "phie = get_prop_array('props/campob_PROP_PHIE.GRDECL')\n",
    "ant = get_prop_array('props/campob_PROP_SEISMIC_-_ANT_TRACKING.GRDECL')\n",
    "gr = get_prop_array('props/campob_PROP_GR.GRDECL')\n",
    "ild = get_prop_array('props/campob_PROP_ILD.GRDECL')\n"
   ]
  },
  {
   "cell_type": "code",
   "execution_count": 10,
   "metadata": {
    "ExecuteTime": {
     "end_time": "2019-05-17T12:09:32.370383Z",
     "start_time": "2019-05-17T12:09:24.040857Z"
    }
   },
   "outputs": [
    {
     "data": {
      "application/vnd.jupyter.widget-view+json": {
       "model_id": "9c280eb9a7f94362a17d9cb7ea659053",
       "version_major": 2,
       "version_minor": 0
      },
      "text/plain": [
       "HBox(children=(IntProgress(value=0, max=5636), HTML(value='')))"
      ]
     },
     "metadata": {},
     "output_type": "display_data"
    },
    {
     "name": "stdout",
     "output_type": "stream",
     "text": [
      "\n"
     ]
    }
   ],
   "source": [
    "region = get_prop_array('props/campob_PROP_REGIONS_ALL_ZONES.GRDECL')"
   ]
  },
  {
   "cell_type": "code",
   "execution_count": 11,
   "metadata": {
    "ExecuteTime": {
     "end_time": "2019-05-17T12:10:09.545655Z",
     "start_time": "2019-05-17T12:10:02.219875Z"
    }
   },
   "outputs": [
    {
     "data": {
      "application/vnd.jupyter.widget-view+json": {
       "model_id": "047b0373e59a4b1a871e5b898d056a6a",
       "version_major": 2,
       "version_minor": 0
      },
      "text/plain": [
       "HBox(children=(IntProgress(value=0, max=101643), HTML(value='')))"
      ]
     },
     "metadata": {},
     "output_type": "display_data"
    },
    {
     "name": "stdout",
     "output_type": "stream",
     "text": [
      "\n"
     ]
    }
   ],
   "source": [
    "owc = get_prop_array('props/campob_PROP_OIL_WATER_CONTACT.GRDECL')"
   ]
  },
  {
   "cell_type": "markdown",
   "metadata": {},
   "source": [
    "Setting Up data for analysis.\n",
    "\n",
    "The region property is based on the physical model generated by the horizons, cells within the Quissamã formation are in region 3.\n",
    "\n",
    "Reservoir cells are cells within the Quissamã formation that are above the Oil Water Contact (OWC)"
   ]
  },
  {
   "cell_type": "code",
   "execution_count": 12,
   "metadata": {
    "ExecuteTime": {
     "end_time": "2019-05-17T12:17:58.999853Z",
     "start_time": "2019-05-17T12:17:09.191671Z"
    }
   },
   "outputs": [],
   "source": [
    "dictio = {'X':coordsx, 'Y':coordsy, 'Z':coordsz, 'i':celli, 'j':cellJ, 'k':cellK, 'dx':sizex, 'dy':sizey, 'dz':sizez, 'region':region, 'SW':sw, 'phie':phie, 'OWC':owc,'Ant Tracking':ant,'GR':gr,'ILD':ild,'RHOB':rhob}\n",
    "data = pd.DataFrame(dictio)"
   ]
  },
  {
   "cell_type": "code",
   "execution_count": null,
   "metadata": {
    "ExecuteTime": {
     "end_time": "2019-05-17T12:19:58.017378Z",
     "start_time": "2019-05-17T12:19:57.858271Z"
    }
   },
   "outputs": [],
   "source": []
  },
  {
   "cell_type": "code",
   "execution_count": 13,
   "metadata": {
    "ExecuteTime": {
     "end_time": "2019-05-17T12:22:09.301567Z",
     "start_time": "2019-05-17T12:22:06.685619Z"
    }
   },
   "outputs": [],
   "source": [
    "data_clean = data.loc[data['SW'] > -1 ]\n",
    "quissama = data_clean.loc[data_clean['region'] == 2]\n",
    "reservoir = quissama.loc[quissama['OWC'] > 0 ]"
   ]
  },
  {
   "cell_type": "markdown",
   "metadata": {},
   "source": [
    "Export to CSV"
   ]
  },
  {
   "cell_type": "code",
   "execution_count": 14,
   "metadata": {
    "ExecuteTime": {
     "end_time": "2019-05-17T12:24:59.358852Z",
     "start_time": "2019-05-17T12:24:22.198044Z"
    }
   },
   "outputs": [],
   "source": [
    "quissama.to_csv('quis.csv',index=0)"
   ]
  },
  {
   "cell_type": "code",
   "execution_count": 15,
   "metadata": {
    "ExecuteTime": {
     "end_time": "2019-05-17T12:27:24.137716Z",
     "start_time": "2019-05-17T12:27:14.288800Z"
    }
   },
   "outputs": [],
   "source": [
    "reservoir.to_csv('res.csv',index=0)"
   ]
  },
  {
   "cell_type": "code",
   "execution_count": null,
   "metadata": {},
   "outputs": [],
   "source": []
  }
 ],
 "metadata": {
  "kernelspec": {
   "display_name": "Python 3",
   "language": "python",
   "name": "python3"
  },
  "language_info": {
   "codemirror_mode": {
    "name": "ipython",
    "version": 3
   },
   "file_extension": ".py",
   "mimetype": "text/x-python",
   "name": "python",
   "nbconvert_exporter": "python",
   "pygments_lexer": "ipython3",
   "version": "3.6.7"
  },
  "varInspector": {
   "cols": {
    "lenName": 16,
    "lenType": 16,
    "lenVar": 40
   },
   "kernels_config": {
    "python": {
     "delete_cmd_postfix": "",
     "delete_cmd_prefix": "del ",
     "library": "var_list.py",
     "varRefreshCmd": "print(var_dic_list())"
    },
    "r": {
     "delete_cmd_postfix": ") ",
     "delete_cmd_prefix": "rm(",
     "library": "var_list.r",
     "varRefreshCmd": "cat(var_dic_list()) "
    }
   },
   "types_to_exclude": [
    "module",
    "function",
    "builtin_function_or_method",
    "instance",
    "_Feature"
   ],
   "window_display": false
  }
 },
 "nbformat": 4,
 "nbformat_minor": 2
}
