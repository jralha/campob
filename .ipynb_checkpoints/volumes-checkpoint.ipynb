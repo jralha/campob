{
 "cells": [
  {
   "cell_type": "code",
   "execution_count": 3,
   "metadata": {
    "ExecuteTime": {
     "end_time": "2019-06-12T03:17:58.175940Z",
     "start_time": "2019-06-12T03:17:58.171941Z"
    }
   },
   "outputs": [],
   "source": [
    "import pandas as pd\n",
    "import numpy as np"
   ]
  },
  {
   "cell_type": "code",
   "execution_count": 4,
   "metadata": {
    "ExecuteTime": {
     "end_time": "2019-06-12T03:18:00.744397Z",
     "start_time": "2019-06-12T03:17:59.147400Z"
    }
   },
   "outputs": [],
   "source": [
    "data = pd.read_csv('ng_classes.csv')"
   ]
  },
  {
   "cell_type": "code",
   "execution_count": 9,
   "metadata": {
    "ExecuteTime": {
     "end_time": "2019-06-12T03:28:27.074851Z",
     "start_time": "2019-06-12T03:28:27.069846Z"
    }
   },
   "outputs": [],
   "source": [
    "def vol_case(frame,phiE,sW,NG):\n",
    "    dX = frame['dx']\n",
    "    dY = frame['dy']\n",
    "    dZ = frame['dz']\n",
    "    vb = dX*dY*dZ\n",
    "    vp = vb*phiE\n",
    "    oip = vp*sW\n",
    "    hcpv = oip*NG \n",
    "    return np.sum(vb), np.sum(vp), np.sum(oip), np.sum(hcpv)"
   ]
  },
  {
   "cell_type": "code",
   "execution_count": 14,
   "metadata": {
    "ExecuteTime": {
     "end_time": "2019-06-12T03:34:22.868697Z",
     "start_time": "2019-06-12T03:34:22.341809Z"
    }
   },
   "outputs": [],
   "source": [
    "#Case 0 - Total volume\n",
    "vols=[]\n",
    "vols.append(vol_case(data,data['phie'],data['SW'],1))\n",
    "#Case 1 - Total Volume - Constant porosity\n",
    "vols.append(vol_case(data,np.mean(data['phie']),data['SW'],1))\n",
    "#Case 2 - Total volume - Constant SW\n",
    "vols.append(vol_case(data,data['phie'],np.mean(data['SW']),1))\n",
    "#Case 3-5 - 50-75-90 Percentile NGs\n",
    "vols.append(vol_case(data,data['phie'],data['SW'],data['NG perc 50']))\n",
    "vols.append(vol_case(data,data['phie'],data['SW'],data['NG perc 75']))\n",
    "vols.append(vol_case(data,data['phie'],data['SW'],data['NG perc 90']))\n",
    "#Case 6 - GMM Probability not class 0\n",
    "vols.append(vol_case(data,data['phie'],data['SW'],1-data['gmm prob0']))\n",
    "#Case 7-12 - Vol classes\n",
    "ks = range(3)\n",
    "algos = ['kmeans','gmm']\n",
    "for algo in algos:\n",
    "    for k in ks:\n",
    "        slc = data.loc[data[algo] == k]\n",
    "        vols.append(vol_case(slc,slc['phie'],slc['SW'],1))"
   ]
  },
  {
   "cell_type": "code",
   "execution_count": 18,
   "metadata": {
    "ExecuteTime": {
     "end_time": "2019-06-12T03:39:03.524378Z",
     "start_time": "2019-06-12T03:39:03.518380Z"
    }
   },
   "outputs": [],
   "source": [
    "vols = pd.DataFrame(vols)\n",
    "vols.columns=['Vb','Vp','OIP','HCPV']\n",
    "cases = ['Volume Total',\n",
    "        'Volume Total - Porosidade Constante (Valor médio)',\n",
    "        'Volume Total - Saturação de Água Constante (Valor médio)',\n",
    "        'NG 50%',\n",
    "        'NG 75%',\n",
    "        'NG 90%',\n",
    "        'NG = GMM P\\'(0)',\n",
    "        'Kmeans 0',\n",
    "        'Kmeans 1',\n",
    "        'Kmeans 2',\n",
    "        'GMM 0',\n",
    "        'GMM 1',\n",
    "        'GMM 2']\n",
    "vols['Case'] = pd.Series(cases)"
   ]
  },
  {
   "cell_type": "code",
   "execution_count": 20,
   "metadata": {
    "ExecuteTime": {
     "end_time": "2019-06-12T03:40:00.857309Z",
     "start_time": "2019-06-12T03:40:00.808324Z"
    }
   },
   "outputs": [],
   "source": [
    "vols.to_csv('volume_cases.csv')\n",
    "        "
   ]
  },
  {
   "cell_type": "code",
   "execution_count": null,
   "metadata": {},
   "outputs": [],
   "source": []
  },
  {
   "cell_type": "code",
   "execution_count": null,
   "metadata": {},
   "outputs": [],
   "source": []
  },
  {
   "cell_type": "code",
   "execution_count": null,
   "metadata": {},
   "outputs": [],
   "source": []
  }
 ],
 "metadata": {
  "kernelspec": {
   "display_name": "Python 3",
   "language": "python",
   "name": "python3"
  },
  "language_info": {
   "codemirror_mode": {
    "name": "ipython",
    "version": 3
   },
   "file_extension": ".py",
   "mimetype": "text/x-python",
   "name": "python",
   "nbconvert_exporter": "python",
   "pygments_lexer": "ipython3",
   "version": "3.7.3"
  },
  "varInspector": {
   "cols": {
    "lenName": 16,
    "lenType": 16,
    "lenVar": 40
   },
   "kernels_config": {
    "python": {
     "delete_cmd_postfix": "",
     "delete_cmd_prefix": "del ",
     "library": "var_list.py",
     "varRefreshCmd": "print(var_dic_list())"
    },
    "r": {
     "delete_cmd_postfix": ") ",
     "delete_cmd_prefix": "rm(",
     "library": "var_list.r",
     "varRefreshCmd": "cat(var_dic_list()) "
    }
   },
   "types_to_exclude": [
    "module",
    "function",
    "builtin_function_or_method",
    "instance",
    "_Feature"
   ],
   "window_display": false
  }
 },
 "nbformat": 4,
 "nbformat_minor": 2
}
